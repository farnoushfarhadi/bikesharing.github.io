{
 "metadata": {
  "name": "",
  "signature": "sha256:89fb6c6e3dcdb17b5c41195f30d24e228f1a802a294de130eb0d371c0ec73c22"
 },
 "nbformat": 3,
 "nbformat_minor": 0,
 "worksheets": [
  {
   "cells": [
    {
     "cell_type": "heading",
     "level": 3,
     "metadata": {},
     "source": [
      "RandomForest:"
     ]
    },
    {
     "cell_type": "markdown",
     "metadata": {},
     "source": [
      "The RandomForest method is an ensemble approach based\n",
      "on the decision tree model. The main idea behind ensemble\n",
      "methods is to construct a single model by combining a set\n",
      "of baseline models. It has been proven that using ensemble\n",
      "methods can achieve better results than using a single model\n",
      "when measured on predictive accuracy.\n",
      "RandomForest takes the decision tree concept by combining\n",
      "a large number of decision trees. Each tree in the ensemble is\n",
      "built from a sample drawn with replacement from the training\n",
      "set(i.e., a bootstrap sample). In addition, when splitting a node\n",
      "during the construction of the tree, the chosen split is no longer\n",
      "4 the best split among all features. Instead, the split that is picked\n",
      "is the best split among a random subset of the features. As\n",
      "a result of this randomness, the bias of the forest usually\n",
      "increases slightly, with respect to the bias of a single nonrandom\n",
      "tree. On the other hand, its variance also decreases due\n",
      "to averaging, usually more than compensating for the increase\n",
      "in bias. Hence it yields to an overall better model.\n",
      "A RandomForest is an estimator to fit a number of decision\n",
      "tree classifiers on different sub-samples of the given dataset\n",
      "and apply the average of the result to improve the accuracy\n",
      "and control the over-fitting. In other words,RandomForest is\n",
      "an ensemble of decision trees which will output a prediction\n",
      "value in which each decision tree is constructed by random\n",
      "subset of the training data.\n"
     ]
    },
    {
     "cell_type": "heading",
     "level": 3,
     "metadata": {},
     "source": [
      "Prediction based on classification:"
     ]
    },
    {
     "cell_type": "markdown",
     "metadata": {},
     "source": [
      "To solve the prediction problem as a simplified classification\n",
      "problem, we turn it into two different classes, 0 (for low\n",
      "demands) and 1 (for high demands). The demand counts\n",
      "greater than average number of rental request (200) are labeled\n",
      "as high demands and the remaining categorized as low ones.\n",
      "RandomForest classifier is used to classify the type of new\n",
      "rental demands.\n",
      "In order to tuning best parameters for RandomForest classifier,\n",
      "we use validation set to evaluate the performance of the\n",
      "learning model for each parameter value and selecting the\n",
      "best ones. Instead of randomly splitting the training data into\n",
      "training and validation sets for cross-validation, we split the\n",
      "training data by dates to decrease the validation deviation.\n",
      "Therefore we consider the first 16 days of each month as\n",
      "training set, while days 17th to 19th of each month for\n",
      "validation set and the test set contains the remaining days in\n",
      "each month and we keep it untouched for evaluating the overall\n",
      "precision of classification of the model with tuned parameters.\n",
      "We designed a 5fold cross-validation to optimize the nestimator\n",
      "and min-sample-split parameters for RandomForest\n",
      "classifier.\n",
      "We compared the validation error as the performance measure\n",
      "obtained by evaluating the RandomForest classifier.\n",
      "The minimum validation error (best performance) for the\n",
      "classification is achieved in the case wherein we have nestimator\n",
      "= 150 and min-sample-split = 14, meaning that\n",
      "the RandomForest classifier with 150 number of trees in the\n",
      "forest and 4 samples required to split an internal node is the\n",
      "best classifier.\n",
      "We apply the RandomForest method with tuned parameters\n",
      "on the raw data and preprocessing data to figure out which\n",
      "features contribute most in performance improvement. The\n",
      "performance of the desired classifier is evaluated using following\n",
      "equation:"
     ]
    },
    {
     "cell_type": "markdown",
     "metadata": {},
     "source": [
      "$$ error = 1 - accuracy = 1- \\frac{\\mathrm{number of samples lables correctly}}{\\mathrm{total number of samples}} $$"
     ]
    },
    {
     "cell_type": "markdown",
     "metadata": {},
     "source": [
      "Setting the RandomForest algorithm with above mentioned\n",
      "configuration gives us a maximum test accuracy of nearly\n",
      "81% and 90% over raw features and data with new features\n",
      "respectively.\n",
      "Confusion matrix evaluate the quality of the output of\n",
      "RandomForest classifier.\n",
      "RandomForest classifier has a better prediction on raw data for the high demand\n",
      "class(1). But for the data produced by feature engineering,\n",
      "the classifier prediction is much better on low demand class(0)."
     ]
    },
    {
     "cell_type": "code",
     "collapsed": false,
     "input": [
      "import pandas as pd\n",
      "import numpy as np\n",
      "import matplotlib.pyplot as plt\n",
      "from sklearn.ensemble import RandomForestClassifier\n",
      "\n",
      "\n",
      "def categorize_count(data, cutoff_count = 200):\n",
      "\n",
      "    data[data[:,14] <= cutoff_count, 14] = 0\n",
      "    data[data[:,14] > cutoff_count,  14] = 1\n",
      "    return data\n",
      "\n",
      "def custom_train_test_split(data, cutoff_day = 16):\n",
      "    train = data[data[:,14] <= cutoff_day]\n",
      "    valid = data[data[:,14] > cutoff_day]   \n",
      "    return train, valid\n",
      "\n",
      "def mydataproc(x, y, k, trainsize):\n",
      "    X_train = np.vstack([x[:k*trainsize], x[(k+1)*trainsize:]])\n",
      "    Y_train = np.hstack([y[:k*trainsize], y[(k+1)*trainsize:]])\n",
      "    X_test = x[k*trainsize:(k+1)*trainsize]\n",
      "    Y_valid = y[k*trainsize:(k+1)*trainsize]\n",
      "    return X_train,Y_train,X_test,Y_valid\n",
      "\n",
      "def plot_confusion_matrix(df_confusion, title='Confusion matrix', cmap=plt.cm.Blues):\n",
      "    plt.matshow(df_confusion, cmap=cmap) # imshow\n",
      "    #plt.title(title)\n",
      "    plt.colorbar()\n",
      "    tick_marks = np.arange(len(df_confusion.columns))\n",
      "    plt.xticks(tick_marks, df_confusion.columns, rotation=45)\n",
      "    plt.yticks(tick_marks, df_confusion.index)\n",
      "    #plt.tight_layout()\n",
      "    plt.ylabel(df_confusion.index.name)\n",
      "    plt.xlabel(df_confusion.columns.name)\n",
      "    plt.title('Normalized Confusion Matrix for Bike Share Classification Demand-wit Feature Engineering')\n",
      "\n",
      "\n",
      "pd.set_option('display.width', 500)\n",
      "pd.set_option('display.max_columns', 30)\n",
      "\n",
      "dfs = {}\n",
      "for name in ['train', 'test']:\n",
      "    df = pd.read_csv('D:/MASTER-POLY/trimister 3-Winter 2016/IND6212-Exploration des Donnees/project/codes/data/%s.csv' % name)\n",
      "    df['_data'] = name\n",
      "    dfs[name] = df\n",
      "\n",
      "# combine train and test data into one df\n",
      "df = dfs['train']\n",
      "\n",
      "# lowercase column names\n",
      "df.columns = map(str.lower, df.columns)\n",
      "\n",
      "df.head()\n",
      "####################### feature engineering: #####################\n",
      "# parse datetime colum & add new time related columns\n",
      "dt = pd.DatetimeIndex(df['datetime'])\n",
      "\n",
      "df['date'] = dt.date\n",
      "df['day'] = dt.day\n",
      "df['month'] = dt.month\n",
      "df['year'] = dt.year\n",
      "df['hour'] = dt.hour\n",
      "df['dow'] = dt.dayofweek\n",
      "df['woy'] = dt.weekofyear\n",
      "df['weeks_since_start'] = (dt - min(dt)).days / 7\n",
      "\n",
      "features = ['weather', 'temp', 'atemp', 'humidity', 'windspeed', 'holiday', \n",
      "            'workingday', 'season', 'hour', 'dow', 'woy', 'day', 'month', 'year','count']\n",
      "\n",
      "z = df.loc[:,features]\n",
      "print(z.shape)\n",
      "\n",
      "z = z.as_matrix()\n",
      "df1 = categorize_count(z, cutoff_count = 200)\n",
      "train, test = custom_train_test_split(df1, cutoff_day = 16)\n",
      "x = train[:,0:10]\n",
      "y = train[:,14]\n",
      "\n",
      "X_test = test[:,0:10]\n",
      "Y_test = test[:,14]\n",
      "\n",
      "kf = 5\n",
      "nsamples = x.shape[0]\n",
      "trainsize = nsamples / kf\n",
      "acc = []\n",
      "for k in range(kf):\n",
      "    print (\"Fold\",k)\n",
      "    X_train, Y_train, X_valid, Y_valid = mydataproc(x, y, k, trainsize)\n",
      "    model = RandomForestClassifier(random_state=1, n_estimators=140, min_samples_split=4, min_samples_leaf=2)\n",
      "    model.fit(X_train, Y_train)\n",
      "    predicted = model.predict(X_valid)\n",
      "    accuracy = np.mean(predicted == Y_valid)\n",
      "    print (\"Accuracy = \" + repr(accuracy))\n",
      "    acc.append(accuracy)\n",
      "    if (k == 0):\n",
      "        Y_valid = pd.Series(Y_valid, name='Actual')\n",
      "        predicted = pd.Series(predicted, name='Predicted')\n",
      "        df_confusion = pd.crosstab(Y_valid, predicted)\n",
      "        df_confusion = pd.crosstab(Y_valid, predicted, rownames=['Actual'], colnames=['Predicted'], margins=False)\n",
      "        df_conf_norm = df_confusion / df_confusion.sum(axis=1)\n",
      "        plot_confusion_matrix(df_confusion)\n",
      "\n",
      "acc_rf = np.mean(acc)\n",
      "print('Average Accuracy for RandomForest is = '+ repr(acc_rf))\n"
     ],
     "language": "python",
     "metadata": {},
     "outputs": [
      {
       "output_type": "stream",
       "stream": "stdout",
       "text": [
        "(10886, 15)\n",
        "('Fold', 0)\n",
        "Accuracy = 0.78686265502985764"
       ]
      },
      {
       "output_type": "stream",
       "stream": "stdout",
       "text": [
        "\n",
        "('Fold', 1)"
       ]
      },
      {
       "output_type": "stream",
       "stream": "stdout",
       "text": [
        "\n",
        "Accuracy = 0.79513091410197523"
       ]
      },
      {
       "output_type": "stream",
       "stream": "stdout",
       "text": [
        "\n",
        "('Fold', 2)\n",
        "Accuracy = 0.79880569591180528"
       ]
      },
      {
       "output_type": "stream",
       "stream": "stdout",
       "text": [
        "\n",
        "('Fold', 3)\n",
        "Accuracy = 0.80891134588883784"
       ]
      },
      {
       "output_type": "stream",
       "stream": "stdout",
       "text": [
        "\n",
        "('Fold', 4)\n",
        "Accuracy = 0.81901699586587051"
       ]
      },
      {
       "output_type": "stream",
       "stream": "stdout",
       "text": [
        "\n",
        "Average Accuracy for RandomForest is = 0.80174552135966926\n"
       ]
      },
      {
       "metadata": {},
       "output_type": "display_data",
       "png": "[encoded data removed]",
       "text": [
        "<matplotlib.figure.Figure at 0x3da9780>"
       ]
      }
     ],
     "prompt_number": 3
    },
    {
     "cell_type": "heading",
     "level": 3,
     "metadata": {},
     "source": [
      "Prediction based on regression:\n"
     ]
    },
    {
     "cell_type": "markdown",
     "metadata": {},
     "source": [
      "Initially, a RandomForest Regressor is used to predict\n",
      "the exact number of rental bike demands. The algorithm\n",
      "is run several times over different features combinations to\n",
      "find the best ones. Additionally, a 5 fold cross-validation\n",
      "experiment is designed to obtain the best parameter values\n",
      "of the regressor similar to that of we performed in previous\n",
      "section.\n",
      "We compare the validation error as the performance measure\n",
      "achieved by evaluating the RandomForest Regressor on the\n",
      "validation data."
     ]
    }
   ],
   "metadata": {}
  }
 ]
}