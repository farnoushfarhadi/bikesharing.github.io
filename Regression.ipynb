{
 "metadata": {
  "name": "",
  "signature": "sha256:f1fc805c8a026f33c244cd4563152baef63da9f27d1750af9f9b282e35d76248"
 },
 "nbformat": 3,
 "nbformat_minor": 0,
 "worksheets": [
  {
   "cells": [
    {
     "cell_type": "heading",
     "level": 3,
     "metadata": {},
     "source": [
      "Prediction based on regression\n"
     ]
    },
    {
     "cell_type": "markdown",
     "metadata": {},
     "source": [
      "Initially, a RandomForest Regressor is used to predict\n",
      "the exact number of rental bike demands. The algorithm\n",
      "is run several times over different features combinations to\n",
      "find the best ones. Additionally, a 5 fold cross-validation\n",
      "experiment is designed to obtain the best parameter values\n",
      "of the regressor similar to that of we performed in previous\n",
      "section.\n",
      "We compare the validation error as the performance measure\n",
      "achieved by evaluating the RandomForest Regressor on the\n",
      "validation data."
     ]
    },
    {
     "cell_type": "code",
     "collapsed": false,
     "input": [
      "import pandas as pd\n",
      "import numpy as np\n",
      "import matplotlib.pyplot as plt\n",
      "from sklearn import ensemble\n",
      "from sklearn.ensemble import RandomForestRegressor\n",
      "from sklearn.metrics import mean_absolute_error\n",
      "\n",
      "\n",
      "pd.set_option('display.width', 500)\n",
      "pd.set_option('display.max_columns', 30)\n",
      "\n",
      "dfs = {}\n",
      "for name in ['train', 'test']:\n",
      "    df = pd.read_csv('D:/MASTER-POLY/trimister 3-Winter 2016/IND6212-Exploration des Donnees/project/codes/data/%s.csv' % name)\n",
      "    df['_data'] = name\n",
      "    dfs[name] = df\n",
      "\n",
      "# combine train and test data into one df\n",
      "df = dfs['train'].append(dfs['test'])\n",
      "\n",
      "# lowercase column names\n",
      "df.columns = map(str.lower, df.columns)\n",
      "\n",
      "df.head()\n",
      "####################### feature engineering: #####################\n",
      "# parse datetime colum & add new time related columns\n",
      "dt = pd.DatetimeIndex(df['datetime'])\n",
      "\n",
      "df['date'] = dt.date\n",
      "df['day'] = dt.day\n",
      "df['month'] = dt.month\n",
      "df['year'] = dt.year\n",
      "df['hour'] = dt.hour\n",
      "df['dow'] = dt.dayofweek\n",
      "df['woy'] = dt.weekofyear\n",
      "df['weeks_since_start'] = (dt - min(dt)).days / 7\n",
      "\n",
      "# logarithmic transformation of dependent cols\n",
      "# (adding 1 first so that 0 values don't become -inf)\n",
      "for col in ['casual', 'registered', 'count']:\n",
      "    df['%s_log' % col] = np.log1p(df[col])\n",
      "df.iloc[0]\n"
     ],
     "language": "python",
     "metadata": {},
     "outputs": [
      {
       "metadata": {},
       "output_type": "pyout",
       "prompt_number": 8,
       "text": [
        "_data                              train\n",
        "atemp                             14.395\n",
        "casual                                 3\n",
        "count                                 16\n",
        "datetime             2011-01-01 00:00:00\n",
        "holiday                                0\n",
        "humidity                              81\n",
        "registered                            13\n",
        "season                                 1\n",
        "temp                                9.84\n",
        "weather                                1\n",
        "windspeed                              0\n",
        "workingday                             0\n",
        "date                          2011-01-01\n",
        "day                                    1\n",
        "month                                  1\n",
        "year                                2011\n",
        "hour                                   0\n",
        "dow                                    5\n",
        "woy                                   52\n",
        "weeks_since_start                      0\n",
        "casual_log                      1.386294\n",
        "registered_log                  2.639057\n",
        "count_log                       2.833213\n",
        "Name: 0, dtype: object"
       ]
      }
     ],
     "prompt_number": 8
    },
    {
     "cell_type": "markdown",
     "metadata": {},
     "source": [
      "instead of randomly splitting our training data \n",
      "for cross validation, we divid up data as follows: 19 days of each month for training and remaining days for test.\n",
      "Furthermore, we split training data into 2 time contiguous datasets for trainig and validating our model (days 1-14 vs. days 15-19).\n",
      "Additionaly, we evaluate the results of regression based on the\n",
      "root mean squared logarithmic error (RMSLE)."
     ]
    },
    {
     "cell_type": "code",
     "collapsed": false,
     "input": [
      "def compute_rmsle(y_pred, y_actual):\n",
      "    diff = np.log1p(y_pred) - np.log1p(y_actual)\n",
      "    mean_error = np.square(diff).mean()\n",
      "    return np.sqrt(mean_error)\n",
      "\n",
      "def get_data():\n",
      "    data = df[df['_data'] == 'train'].copy()\n",
      "    return data\n",
      "\n",
      "def custom_train_test_split(data, cutoff_day = 16):\n",
      "    train = data[data['day'] <= cutoff_day]\n",
      "    valid = data[data['day'] > cutoff_day]   \n",
      "    return train, valid\n",
      "\n",
      "def prep_data(data, input_cols):\n",
      "    X = data[input_cols].as_matrix()\n",
      "    y_r = data['registered_log'].as_matrix()\n",
      "    y_c = data['casual_log'].as_matrix()    \n",
      "    return X, y_r, y_c\n",
      "    \n",
      "def predict(cols, params={}):\n",
      "    data = get_data()    \n",
      "    train, valid = custom_train_test_split(data)    \n",
      "    X_train, y_train_r, y_train_c = prep_data(train, cols)\n",
      "    X_valid, y_valid_r, y_valid_c = prep_data(valid, cols)\n",
      "\n",
      "    #params.update({'n_jobs': -1, 'random_state': 123,})\n",
      "    params.update({'random_state': 123,})\n",
      "    \n",
      "    model = RandomForestRegressor(**params)    \n",
      "\n",
      "    model_r = model.fit(X_train, y_train_r)\n",
      "    y_pred_r = np.exp(model_r.predict(X_valid)) - 1\n",
      "    \n",
      "    model_c = model.fit(X_train, y_train_c)\n",
      "    y_pred_c = np.exp(model_c.predict(X_valid)) - 1\n",
      "\n",
      "    y_pred_comb = np.round(y_pred_r + y_pred_c)\n",
      "    y_pred_comb[y_pred_comb < 0] = 0\n",
      "    \n",
      "    y_valid_comb = np.exp(y_valid_r) + np.exp(y_valid_c) - 2\n",
      "\n",
      "    score = compute_rmsle(y_pred_comb, y_valid_comb)\n",
      "    return score\n",
      "\n"
     ],
     "language": "python",
     "metadata": {},
     "outputs": [],
     "prompt_number": 9
    },
    {
     "cell_type": "markdown",
     "metadata": {},
     "source": [
      "Now, we tune the model parameters:"
     ]
    },
    {
     "cell_type": "code",
     "collapsed": false,
     "input": [
      "features = ['weather', 'temp', 'atemp', 'humidity', 'windspeed', 'holiday', \n",
      "            'workingday', 'season', 'hour', 'dow', 'year',]\n",
      "\n",
      "# random forest param grid\n",
      "n_estimators = [500, 1000, 1500]\n",
      "min_samples_splits = [6, 8, 10, 12, 14]\n",
      "best_score, best_params = 100000000000, None\n",
      "\n",
      "# loop through param grid & find top performer\n",
      "for ne in n_estimators:\n",
      "    for mss in min_samples_splits:\n",
      "        params = {'n_estimators': ne, 'min_samples_leaf': mss}\n",
      "        score = predict(features, params)\n",
      "        print('trees: %4d  |  mss: %2d  | RMSE: %2.5f' %(ne, mss, score))\n",
      "        if (score < best_score):\n",
      "            best_params = params\n",
      "            best_score = score\n",
      "            \n",
      "print('Best Params: {}, RMSE: {}'.format(best_params, best_score))\n"
     ],
     "language": "python",
     "metadata": {},
     "outputs": [
      {
       "output_type": "stream",
       "stream": "stdout",
       "text": [
        "trees:  500  |  mss:  6  | RMSE: 0.31822\n",
        "trees:  500  |  mss:  8  | RMSE: 0.31950"
       ]
      },
      {
       "output_type": "stream",
       "stream": "stdout",
       "text": [
        "\n",
        "trees:  500  |  mss: 10  | RMSE: 0.32288"
       ]
      },
      {
       "output_type": "stream",
       "stream": "stdout",
       "text": [
        "\n",
        "trees:  500  |  mss: 12  | RMSE: 0.32589"
       ]
      },
      {
       "output_type": "stream",
       "stream": "stdout",
       "text": [
        "\n",
        "trees:  500  |  mss: 14  | RMSE: 0.33098"
       ]
      },
      {
       "output_type": "stream",
       "stream": "stdout",
       "text": [
        "\n",
        "trees: 1000  |  mss:  6  | RMSE: 0.31875"
       ]
      },
      {
       "output_type": "stream",
       "stream": "stdout",
       "text": [
        "\n",
        "trees: 1000  |  mss:  8  | RMSE: 0.31989"
       ]
      },
      {
       "output_type": "stream",
       "stream": "stdout",
       "text": [
        "\n",
        "trees: 1000  |  mss: 10  | RMSE: 0.32241"
       ]
      },
      {
       "output_type": "stream",
       "stream": "stdout",
       "text": [
        "\n",
        "trees: 1000  |  mss: 12  | RMSE: 0.32644"
       ]
      },
      {
       "output_type": "stream",
       "stream": "stdout",
       "text": [
        "\n",
        "trees: 1000  |  mss: 14  | RMSE: 0.33050"
       ]
      },
      {
       "output_type": "stream",
       "stream": "stdout",
       "text": [
        "\n",
        "trees: 1500  |  mss:  6  | RMSE: 0.31881"
       ]
      },
      {
       "output_type": "stream",
       "stream": "stdout",
       "text": [
        "\n",
        "trees: 1500  |  mss:  8  | RMSE: 0.32012"
       ]
      },
      {
       "output_type": "stream",
       "stream": "stdout",
       "text": [
        "\n",
        "trees: 1500  |  mss: 10  | RMSE: 0.32286"
       ]
      },
      {
       "output_type": "stream",
       "stream": "stdout",
       "text": [
        "\n",
        "trees: 1500  |  mss: 12  | RMSE: 0.32679"
       ]
      },
      {
       "output_type": "stream",
       "stream": "stdout",
       "text": [
        "\n",
        "trees: 1500  |  mss: 14  | RMSE: 0.33014"
       ]
      },
      {
       "output_type": "stream",
       "stream": "stdout",
       "text": [
        "\n",
        "Best Params: {'n_estimators': 500, 'random_state': 123, 'min_samples_leaf': 6}, RMSE: 0.318220270088\n"
       ]
      }
     ],
     "prompt_number": 10
    },
    {
     "cell_type": "code",
     "collapsed": false,
     "input": [
      "# putting it all together\n",
      "\n",
      "features = ['weather', 'temp', 'atemp', 'humidity', 'windspeed', 'holiday', \n",
      "            'workingday', 'season', 'hour', 'dow', 'year']\n",
      "\n",
      "# prepare training set\n",
      "df_train = df[df['_data'] == 'train'].copy()\n",
      "X_train = df_train[features].as_matrix()\n",
      "y_train_cas = df_train['casual_log'].as_matrix()\n",
      "y_train_reg = df_train['registered_log'].as_matrix()\n",
      "\n",
      "# prepare test set\n",
      "df_test = df[df['_data'] == 'test'].copy()\n",
      "X_test = df_test[features].as_matrix()\n",
      "\n",
      "# fit on training set\n",
      "model = RandomForestRegressor(n_estimators = 1000, min_samples_split = 12, n_jobs = -1, random_state = 123456,)\n",
      "\n",
      "# predict on test set & transform output back from log scale\n",
      "casual_model = model.fit(X_train, y_train_cas)\n",
      "y_pred_cas = casual_model.predict(X_test)\n",
      "y_pred_cas = np.exp(y_pred_cas) - 1\n",
      "\n",
      "registered_model = model.fit(X_train, y_train_reg)\n",
      "y_pred_reg = registered_model.predict(X_test)\n",
      "y_pred_reg = np.exp(y_pred_reg) - 1\n",
      "\n",
      "# add casual & registered predictions together\n",
      "df_test['count'] = np.round(y_pred_cas + y_pred_reg)\n",
      "\n",
      "# output predictions for submission\n",
      "final_df = df_test[['datetime', 'count']].copy()\n",
      "final_df.to_csv('predicted.csv', index=False)\n",
      "\n"
     ],
     "language": "python",
     "metadata": {},
     "outputs": [],
     "prompt_number": 11
    },
    {
     "cell_type": "markdown",
     "metadata": {},
     "source": [
      "We compare the validation error as the performance measure\n",
      "achieved by evaluating the RandomForest Regressor on the\n",
      "validation data. The result are given in the following figure:"
     ]
    },
    {
     "cell_type": "code",
     "collapsed": false,
     "input": [
      "data = get_data()    \n",
      "train, validation = custom_train_test_split(data)    \n",
      "error_train=[]\n",
      "error_validation=[]\n",
      "\n",
      "for n_estimator in range(1, 500, 1):\n",
      "    model = RandomForestRegressor(n_estimators = n_estimator, min_samples_split = 14, n_jobs = -1, random_state = 123456,)\n",
      " \n",
      "    model.fit(train[features], train['count_log'])\n",
      "    err_train = mean_absolute_error(model.predict(train[features]), train['count_log'])\n",
      "    error_train.append(err_train)\n",
      " \n",
      "    err_valid = mean_absolute_error(model.predict(validation[features]), validation['count_log'])\n",
      "    error_validation.append(err_valid) \n",
      "    print('n_estimator = %4d  | error_train = %2.5f  | error_valid = %2.5f ' \n",
      "                                            %(n_estimator, err_train, err_valid))\n",
      "       \n",
      " \n",
      "#Plot the data\n",
      "x=range(1,500, 1)\n",
      "plt.clf(); iterations = range(0, len(error_train))\n",
      "fig, ax = plt.subplots()\n",
      "plt.xlabel('n_estimator'); plt.ylabel('Error'); plt.title('Error vs. Number of Estimators')\n",
      "plt.ylim(0, 1)    # set the ylim to ymin, ymax\n",
      "\n",
      "ax.plot(iterations, error_train, 'b', label='Training Error')\n",
      "ax.plot(iterations, error_validation, 'r', label='Validation Error')\n",
      "plt.grid(True)\n",
      "legend = ax.legend(loc='upper center', shadow=True)\n",
      "frame = legend.get_frame()\n",
      "frame.set_facecolor('0.90')\n",
      "for label in legend.get_texts():\n",
      "        label.set_fontsize('large')\n",
      "for label in legend.get_lines():\n",
      "        label.set_linewidth(1.5)  # the legend line width\n",
      "plt.show()\n",
      "\n",
      "print('accomplished!')\n"
     ],
     "language": "python",
     "metadata": {},
     "outputs": [
      {
       "output_type": "stream",
       "stream": "stdout",
       "text": [
        "n_estimator =    1  | error_train = 0.21182  | error_valid = 0.29671 \n",
        "n_estimator =    2  | error_train = 0.18764  | error_valid = 0.26266 "
       ]
      },
      {
       "output_type": "stream",
       "stream": "stdout",
       "text": [
        "\n",
        "n_estimator =    3  | error_train = 0.17865  | error_valid = 0.25114 "
       ]
      },
      {
       "output_type": "stream",
       "stream": "stdout",
       "text": [
        "\n",
        "n_estimator =    4  | error_train = 0.17193  | error_valid = 0.24429 "
       ]
      },
      {
       "output_type": "stream",
       "stream": "stdout",
       "text": [
        "\n",
        "n_estimator =    5  | error_train = 0.16868  | error_valid = 0.23868 "
       ]
      },
      {
       "output_type": "stream",
       "stream": "stdout",
       "text": [
        "\n",
        "n_estimator =    6  | error_train = 0.16680  | error_valid = 0.23742 "
       ]
      },
      {
       "output_type": "stream",
       "stream": "stdout",
       "text": [
        "\n",
        "n_estimator =    7  | error_train = 0.16466  | error_valid = 0.23314 "
       ]
      },
      {
       "output_type": "stream",
       "stream": "stdout",
       "text": [
        "\n",
        "n_estimator =    8  | error_train = 0.16220  | error_valid = 0.22975 "
       ]
      },
      {
       "output_type": "stream",
       "stream": "stdout",
       "text": [
        "\n",
        "n_estimator =    9  | error_train = 0.16183  | error_valid = 0.22916 "
       ]
      },
      {
       "output_type": "stream",
       "stream": "stdout",
       "text": [
        "\n",
        "n_estimator =   10  | error_train = 0.16075  | error_valid = 0.22873 "
       ]
      },
      {
       "output_type": "stream",
       "stream": "stdout",
       "text": [
        "\n",
        "n_estimator =   11  | error_train = 0.16024  | error_valid = 0.22778 "
       ]
      },
      {
       "output_type": "stream",
       "stream": "stdout",
       "text": [
        "\n",
        "n_estimator =   12  | error_train = 0.15971  | error_valid = 0.22825 "
       ]
      },
      {
       "output_type": "stream",
       "stream": "stdout",
       "text": [
        "\n",
        "n_estimator =   13  | error_train = 0.15898  | error_valid = 0.22691 "
       ]
      },
      {
       "output_type": "stream",
       "stream": "stdout",
       "text": [
        "\n",
        "n_estimator =   14  | error_train = 0.15892  | error_valid = 0.22820 "
       ]
      },
      {
       "output_type": "stream",
       "stream": "stdout",
       "text": [
        "\n",
        "n_estimator =   15  | error_train = 0.15829  | error_valid = 0.22767 "
       ]
      },
      {
       "output_type": "stream",
       "stream": "stdout",
       "text": [
        "\n",
        "n_estimator =   16  | error_train = 0.15796  | error_valid = 0.22702 "
       ]
      },
      {
       "output_type": "stream",
       "stream": "stdout",
       "text": [
        "\n",
        "n_estimator =   17  | error_train = 0.15755  | error_valid = 0.22648 "
       ]
      },
      {
       "output_type": "stream",
       "stream": "stdout",
       "text": [
        "\n",
        "n_estimator =   18  | error_train = 0.15768  | error_valid = 0.22698 "
       ]
      },
      {
       "output_type": "stream",
       "stream": "stdout",
       "text": [
        "\n",
        "n_estimator =   19  | error_train = 0.15723  | error_valid = 0.22665 "
       ]
      },
      {
       "output_type": "stream",
       "stream": "stdout",
       "text": [
        "\n",
        "n_estimator =   20  | error_train = 0.15725  | error_valid = 0.22685 "
       ]
      },
      {
       "output_type": "stream",
       "stream": "stdout",
       "text": [
        "\n",
        "n_estimator =   21  | error_train = 0.15711  | error_valid = 0.22694 "
       ]
      },
      {
       "output_type": "stream",
       "stream": "stdout",
       "text": [
        "\n",
        "n_estimator =   22  | error_train = 0.15675  | error_valid = 0.22579 "
       ]
      },
      {
       "output_type": "stream",
       "stream": "stdout",
       "text": [
        "\n",
        "n_estimator =   23  | error_train = 0.15677  | error_valid = 0.22625 "
       ]
      },
      {
       "output_type": "stream",
       "stream": "stdout",
       "text": [
        "\n",
        "n_estimator =   24  | error_train = 0.15656  | error_valid = 0.22696 "
       ]
      },
      {
       "output_type": "stream",
       "stream": "stdout",
       "text": [
        "\n",
        "n_estimator =   25  | error_train = 0.15664  | error_valid = 0.22662 "
       ]
      },
      {
       "output_type": "stream",
       "stream": "stdout",
       "text": [
        "\n",
        "n_estimator =   26  | error_train = 0.15649  | error_valid = 0.22548 "
       ]
      },
      {
       "output_type": "stream",
       "stream": "stdout",
       "text": [
        "\n",
        "n_estimator =   27  | error_train = 0.15647  | error_valid = 0.22609 "
       ]
      },
      {
       "output_type": "stream",
       "stream": "stdout",
       "text": [
        "\n",
        "n_estimator =   28  | error_train = 0.15641  | error_valid = 0.22612 "
       ]
      },
      {
       "output_type": "stream",
       "stream": "stdout",
       "text": [
        "\n",
        "n_estimator =   29  | error_train = 0.15615  | error_valid = 0.22580 "
       ]
      },
      {
       "output_type": "stream",
       "stream": "stdout",
       "text": [
        "\n",
        "n_estimator =   30  | error_train = 0.15601  | error_valid = 0.22604 "
       ]
      },
      {
       "output_type": "stream",
       "stream": "stdout",
       "text": [
        "\n",
        "n_estimator =   31  | error_train = 0.15587  | error_valid = 0.22649 "
       ]
      },
      {
       "output_type": "stream",
       "stream": "stdout",
       "text": [
        "\n",
        "n_estimator =   32  | error_train = 0.15570  | error_valid = 0.22687 "
       ]
      },
      {
       "output_type": "stream",
       "stream": "stdout",
       "text": [
        "\n",
        "n_estimator =   33  | error_train = 0.15559  | error_valid = 0.22694 "
       ]
      },
      {
       "output_type": "stream",
       "stream": "stdout",
       "text": [
        "\n",
        "n_estimator =   34  | error_train = 0.15573  | error_valid = 0.22642 "
       ]
      },
      {
       "output_type": "stream",
       "stream": "stdout",
       "text": [
        "\n",
        "n_estimator =   35  | error_train = 0.15562  | error_valid = 0.22652 "
       ]
      },
      {
       "output_type": "stream",
       "stream": "stdout",
       "text": [
        "\n",
        "n_estimator =   36  | error_train = 0.15546  | error_valid = 0.22652 "
       ]
      },
      {
       "output_type": "stream",
       "stream": "stdout",
       "text": [
        "\n",
        "n_estimator =   37  | error_train = 0.15540  | error_valid = 0.22619 "
       ]
      },
      {
       "output_type": "stream",
       "stream": "stdout",
       "text": [
        "\n",
        "n_estimator =   38  | error_train = 0.15536  | error_valid = 0.22631 "
       ]
      },
      {
       "output_type": "stream",
       "stream": "stdout",
       "text": [
        "\n",
        "n_estimator =   39  | error_train = 0.15515  | error_valid = 0.22634 "
       ]
      },
      {
       "output_type": "stream",
       "stream": "stdout",
       "text": [
        "\n",
        "n_estimator =   40  | error_train = 0.15514  | error_valid = 0.22622 "
       ]
      },
      {
       "output_type": "stream",
       "stream": "stdout",
       "text": [
        "\n",
        "n_estimator =   41  | error_train = 0.15497  | error_valid = 0.22595 "
       ]
      },
      {
       "output_type": "stream",
       "stream": "stdout",
       "text": [
        "\n",
        "n_estimator =   42  | error_train = 0.15483  | error_valid = 0.22582 "
       ]
      },
      {
       "output_type": "stream",
       "stream": "stdout",
       "text": [
        "\n",
        "n_estimator =   43  | error_train = 0.15478  | error_valid = 0.22601 "
       ]
      },
      {
       "output_type": "stream",
       "stream": "stdout",
       "text": [
        "\n",
        "n_estimator =   44  | error_train = 0.15472  | error_valid = 0.22573 "
       ]
      },
      {
       "output_type": "stream",
       "stream": "stdout",
       "text": [
        "\n",
        "n_estimator =   45  | error_train = 0.15466  | error_valid = 0.22564 "
       ]
      },
      {
       "output_type": "stream",
       "stream": "stdout",
       "text": [
        "\n",
        "n_estimator =   46  | error_train = 0.15466  | error_valid = 0.22555 "
       ]
      },
      {
       "output_type": "stream",
       "stream": "stdout",
       "text": [
        "\n",
        "n_estimator =   47  | error_train = 0.15464  | error_valid = 0.22528 "
       ]
      },
      {
       "output_type": "stream",
       "stream": "stdout",
       "text": [
        "\n",
        "n_estimator =   48  | error_train = 0.15446  | error_valid = 0.22495 "
       ]
      },
      {
       "output_type": "stream",
       "stream": "stdout",
       "text": [
        "\n",
        "n_estimator =   49  | error_train = 0.15435  | error_valid = 0.22509 "
       ]
      },
      {
       "output_type": "stream",
       "stream": "stdout",
       "text": [
        "\n",
        "n_estimator =   50  | error_train = 0.15425  | error_valid = 0.22480 "
       ]
      },
      {
       "output_type": "stream",
       "stream": "stdout",
       "text": [
        "\n",
        "n_estimator =   51  | error_train = 0.15417  | error_valid = 0.22440 "
       ]
      },
      {
       "output_type": "stream",
       "stream": "stdout",
       "text": [
        "\n",
        "n_estimator =   52  | error_train = 0.15410  | error_valid = 0.22414 "
       ]
      },
      {
       "output_type": "stream",
       "stream": "stdout",
       "text": [
        "\n",
        "n_estimator =   53  | error_train = 0.15400  | error_valid = 0.22439 "
       ]
      },
      {
       "output_type": "stream",
       "stream": "stdout",
       "text": [
        "\n",
        "n_estimator =   54  | error_train = 0.15404  | error_valid = 0.22417 "
       ]
      },
      {
       "output_type": "stream",
       "stream": "stdout",
       "text": [
        "\n",
        "n_estimator =   55  | error_train = 0.15404  | error_valid = 0.22425 "
       ]
      },
      {
       "output_type": "stream",
       "stream": "stdout",
       "text": [
        "\n",
        "n_estimator =   56  | error_train = 0.15397  | error_valid = 0.22449 "
       ]
      },
      {
       "output_type": "stream",
       "stream": "stdout",
       "text": [
        "\n",
        "n_estimator =   57  | error_train = 0.15394  | error_valid = 0.22435 "
       ]
      },
      {
       "output_type": "stream",
       "stream": "stdout",
       "text": [
        "\n",
        "n_estimator =   58  | error_train = 0.15391  | error_valid = 0.22457 "
       ]
      },
      {
       "output_type": "stream",
       "stream": "stdout",
       "text": [
        "\n",
        "n_estimator =   59  | error_train = 0.15385  | error_valid = 0.22450 "
       ]
      },
      {
       "output_type": "stream",
       "stream": "stdout",
       "text": [
        "\n",
        "n_estimator =   60  | error_train = 0.15382  | error_valid = 0.22454 "
       ]
      },
      {
       "output_type": "stream",
       "stream": "stdout",
       "text": [
        "\n",
        "n_estimator =   61  | error_train = 0.15376  | error_valid = 0.22451 "
       ]
      },
      {
       "output_type": "stream",
       "stream": "stdout",
       "text": [
        "\n",
        "n_estimator =   62  | error_train = 0.15374  | error_valid = 0.22412 "
       ]
      },
      {
       "output_type": "stream",
       "stream": "stdout",
       "text": [
        "\n",
        "n_estimator =   63  | error_train = 0.15361  | error_valid = 0.22365 "
       ]
      },
      {
       "output_type": "stream",
       "stream": "stdout",
       "text": [
        "\n",
        "n_estimator =   64  | error_train = 0.15354  | error_valid = 0.22358 "
       ]
      },
      {
       "output_type": "stream",
       "stream": "stdout",
       "text": [
        "\n",
        "n_estimator =   65  | error_train = 0.15359  | error_valid = 0.22330 "
       ]
      },
      {
       "output_type": "stream",
       "stream": "stdout",
       "text": [
        "\n",
        "n_estimator =   66  | error_train = 0.15368  | error_valid = 0.22339 "
       ]
      },
      {
       "output_type": "stream",
       "stream": "stdout",
       "text": [
        "\n",
        "n_estimator =   67  | error_train = 0.15364  | error_valid = 0.22322 "
       ]
      },
      {
       "output_type": "stream",
       "stream": "stdout",
       "text": [
        "\n",
        "n_estimator =   68  | error_train = 0.15364  | error_valid = 0.22307 "
       ]
      },
      {
       "output_type": "stream",
       "stream": "stdout",
       "text": [
        "\n",
        "n_estimator =   69  | error_train = 0.15370  | error_valid = 0.22284 "
       ]
      },
      {
       "output_type": "stream",
       "stream": "stdout",
       "text": [
        "\n",
        "n_estimator =   70  | error_train = 0.15371  | error_valid = 0.22274 "
       ]
      },
      {
       "output_type": "stream",
       "stream": "stdout",
       "text": [
        "\n",
        "n_estimator =   71  | error_train = 0.15370  | error_valid = 0.22305 "
       ]
      },
      {
       "output_type": "stream",
       "stream": "stdout",
       "text": [
        "\n",
        "n_estimator =   72  | error_train = 0.15372  | error_valid = 0.22288 "
       ]
      },
      {
       "output_type": "stream",
       "stream": "stdout",
       "text": [
        "\n",
        "n_estimator =   73  | error_train = 0.15372  | error_valid = 0.22276 "
       ]
      },
      {
       "output_type": "stream",
       "stream": "stdout",
       "text": [
        "\n",
        "n_estimator =   74  | error_train = 0.15368  | error_valid = 0.22278 "
       ]
      },
      {
       "output_type": "stream",
       "stream": "stdout",
       "text": [
        "\n",
        "n_estimator =   75  | error_train = 0.15364  | error_valid = 0.22302 "
       ]
      },
      {
       "output_type": "stream",
       "stream": "stdout",
       "text": [
        "\n",
        "n_estimator =   76  | error_train = 0.15360  | error_valid = 0.22289 "
       ]
      },
      {
       "output_type": "stream",
       "stream": "stdout",
       "text": [
        "\n",
        "n_estimator =   77  | error_train = 0.15371  | error_valid = 0.22305 "
       ]
      },
      {
       "output_type": "stream",
       "stream": "stdout",
       "text": [
        "\n",
        "n_estimator =   78  | error_train = 0.15367  | error_valid = 0.22313 "
       ]
      },
      {
       "output_type": "stream",
       "stream": "stdout",
       "text": [
        "\n",
        "n_estimator =   79  | error_train = 0.15365  | error_valid = 0.22331 "
       ]
      },
      {
       "output_type": "stream",
       "stream": "stdout",
       "text": [
        "\n",
        "n_estimator =   80  | error_train = 0.15358  | error_valid = 0.22307 "
       ]
      },
      {
       "output_type": "stream",
       "stream": "stdout",
       "text": [
        "\n",
        "n_estimator =   81  | error_train = 0.15358  | error_valid = 0.22296 "
       ]
      },
      {
       "output_type": "stream",
       "stream": "stdout",
       "text": [
        "\n",
        "n_estimator =   82  | error_train = 0.15360  | error_valid = 0.22305 "
       ]
      },
      {
       "output_type": "stream",
       "stream": "stdout",
       "text": [
        "\n",
        "n_estimator =   83  | error_train = 0.15356  | error_valid = 0.22276 "
       ]
      },
      {
       "output_type": "stream",
       "stream": "stdout",
       "text": [
        "\n",
        "n_estimator =   84  | error_train = 0.15354  | error_valid = 0.22263 "
       ]
      },
      {
       "output_type": "stream",
       "stream": "stdout",
       "text": [
        "\n",
        "n_estimator =   85  | error_train = 0.15348  | error_valid = 0.22280 "
       ]
      },
      {
       "output_type": "stream",
       "stream": "stdout",
       "text": [
        "\n",
        "n_estimator =   86  | error_train = 0.15340  | error_valid = 0.22277 "
       ]
      },
      {
       "output_type": "stream",
       "stream": "stdout",
       "text": [
        "\n",
        "n_estimator =   87  | error_train = 0.15341  | error_valid = 0.22260 "
       ]
      },
      {
       "output_type": "stream",
       "stream": "stdout",
       "text": [
        "\n",
        "n_estimator =   88  | error_train = 0.15348  | error_valid = 0.22281 "
       ]
      },
      {
       "output_type": "stream",
       "stream": "stdout",
       "text": [
        "\n",
        "n_estimator =   89  | error_train = 0.15343  | error_valid = 0.22295 "
       ]
      },
      {
       "output_type": "stream",
       "stream": "stdout",
       "text": [
        "\n",
        "n_estimator =   90  | error_train = 0.15342  | error_valid = 0.22288 "
       ]
      },
      {
       "output_type": "stream",
       "stream": "stdout",
       "text": [
        "\n",
        "n_estimator =   91  | error_train = 0.15344  | error_valid = 0.22297 "
       ]
      },
      {
       "output_type": "stream",
       "stream": "stdout",
       "text": [
        "\n",
        "n_estimator =   92  | error_train = 0.15343  | error_valid = 0.22300 "
       ]
      },
      {
       "output_type": "stream",
       "stream": "stdout",
       "text": [
        "\n",
        "n_estimator =   93  | error_train = 0.15340  | error_valid = 0.22297 "
       ]
      },
      {
       "output_type": "stream",
       "stream": "stdout",
       "text": [
        "\n",
        "n_estimator =   94  | error_train = 0.15334  | error_valid = 0.22318 "
       ]
      },
      {
       "output_type": "stream",
       "stream": "stdout",
       "text": [
        "\n",
        "n_estimator =   95  | error_train = 0.15336  | error_valid = 0.22318 "
       ]
      },
      {
       "output_type": "stream",
       "stream": "stdout",
       "text": [
        "\n",
        "n_estimator =   96  | error_train = 0.15337  | error_valid = 0.22322 "
       ]
      },
      {
       "output_type": "stream",
       "stream": "stdout",
       "text": [
        "\n",
        "n_estimator =   97  | error_train = 0.15334  | error_valid = 0.22312 "
       ]
      },
      {
       "output_type": "stream",
       "stream": "stdout",
       "text": [
        "\n",
        "n_estimator =   98  | error_train = 0.15340  | error_valid = 0.22303 "
       ]
      },
      {
       "output_type": "stream",
       "stream": "stdout",
       "text": [
        "\n",
        "n_estimator =   99  | error_train = 0.15338  | error_valid = 0.22297 "
       ]
      },
      {
       "output_type": "stream",
       "stream": "stdout",
       "text": [
        "\n",
        "n_estimator =  100  | error_train = 0.15335  | error_valid = 0.22295 "
       ]
      },
      {
       "output_type": "stream",
       "stream": "stdout",
       "text": [
        "\n",
        "n_estimator =  101  | error_train = 0.15334  | error_valid = 0.22304 "
       ]
      },
      {
       "output_type": "stream",
       "stream": "stdout",
       "text": [
        "\n",
        "n_estimator =  102  | error_train = 0.15332  | error_valid = 0.22297 "
       ]
      },
      {
       "output_type": "stream",
       "stream": "stdout",
       "text": [
        "\n",
        "n_estimator =  103  | error_train = 0.15330  | error_valid = 0.22300 "
       ]
      },
      {
       "output_type": "stream",
       "stream": "stdout",
       "text": [
        "\n",
        "n_estimator =  104  | error_train = 0.15329  | error_valid = 0.22306 "
       ]
      },
      {
       "output_type": "stream",
       "stream": "stdout",
       "text": [
        "\n",
        "n_estimator =  105  | error_train = 0.15323  | error_valid = 0.22310 "
       ]
      },
      {
       "output_type": "stream",
       "stream": "stdout",
       "text": [
        "\n",
        "n_estimator =  106  | error_train = 0.15326  | error_valid = 0.22305 "
       ]
      },
      {
       "output_type": "stream",
       "stream": "stdout",
       "text": [
        "\n",
        "n_estimator =  107  | error_train = 0.15317  | error_valid = 0.22311 "
       ]
      },
      {
       "output_type": "stream",
       "stream": "stdout",
       "text": [
        "\n",
        "n_estimator =  108  | error_train = 0.15319  | error_valid = 0.22307 "
       ]
      },
      {
       "output_type": "stream",
       "stream": "stdout",
       "text": [
        "\n",
        "n_estimator =  109  | error_train = 0.15310  | error_valid = 0.22304 "
       ]
      },
      {
       "output_type": "stream",
       "stream": "stdout",
       "text": [
        "\n",
        "n_estimator =  110  | error_train = 0.15310  | error_valid = 0.22297 "
       ]
      },
      {
       "output_type": "stream",
       "stream": "stdout",
       "text": [
        "\n",
        "n_estimator =  111  | error_train = 0.15310  | error_valid = 0.22288 "
       ]
      },
      {
       "output_type": "stream",
       "stream": "stdout",
       "text": [
        "\n",
        "n_estimator =  112  | error_train = 0.15311  | error_valid = 0.22281 "
       ]
      },
      {
       "output_type": "stream",
       "stream": "stdout",
       "text": [
        "\n",
        "n_estimator =  113  | error_train = 0.15317  | error_valid = 0.22268 "
       ]
      },
      {
       "output_type": "stream",
       "stream": "stdout",
       "text": [
        "\n",
        "n_estimator =  114  | error_train = 0.15318  | error_valid = 0.22259 "
       ]
      },
      {
       "output_type": "stream",
       "stream": "stdout",
       "text": [
        "\n",
        "n_estimator =  115  | error_train = 0.15317  | error_valid = 0.22266 "
       ]
      },
      {
       "output_type": "stream",
       "stream": "stdout",
       "text": [
        "\n",
        "n_estimator =  116  | error_train = 0.15316  | error_valid = 0.22257 "
       ]
      },
      {
       "output_type": "stream",
       "stream": "stdout",
       "text": [
        "\n",
        "n_estimator =  117  | error_train = 0.15316  | error_valid = 0.22242 "
       ]
      },
      {
       "output_type": "stream",
       "stream": "stdout",
       "text": [
        "\n",
        "n_estimator =  118  | error_train = 0.15315  | error_valid = 0.22239 "
       ]
      },
      {
       "output_type": "stream",
       "stream": "stdout",
       "text": [
        "\n",
        "n_estimator =  119  | error_train = 0.15311  | error_valid = 0.22252 "
       ]
      },
      {
       "output_type": "stream",
       "stream": "stdout",
       "text": [
        "\n",
        "n_estimator =  120  | error_train = 0.15311  | error_valid = 0.22256 "
       ]
      },
      {
       "output_type": "stream",
       "stream": "stdout",
       "text": [
        "\n",
        "n_estimator =  121  | error_train = 0.15312  | error_valid = 0.22265 "
       ]
      },
      {
       "output_type": "stream",
       "stream": "stdout",
       "text": [
        "\n",
        "n_estimator =  122  | error_train = 0.15320  | error_valid = 0.22265 "
       ]
      },
      {
       "output_type": "stream",
       "stream": "stdout",
       "text": [
        "\n",
        "n_estimator =  123  | error_train = 0.15321  | error_valid = 0.22262 "
       ]
      },
      {
       "output_type": "stream",
       "stream": "stdout",
       "text": [
        "\n",
        "n_estimator =  124  | error_train = 0.15317  | error_valid = 0.22254 "
       ]
      },
      {
       "output_type": "stream",
       "stream": "stdout",
       "text": [
        "\n",
        "n_estimator =  125  | error_train = 0.15316  | error_valid = 0.22262 "
       ]
      },
      {
       "output_type": "stream",
       "stream": "stdout",
       "text": [
        "\n",
        "n_estimator =  126  | error_train = 0.15311  | error_valid = 0.22238 "
       ]
      },
      {
       "output_type": "stream",
       "stream": "stdout",
       "text": [
        "\n",
        "n_estimator =  127  | error_train = 0.15313  | error_valid = 0.22244 "
       ]
      },
      {
       "output_type": "stream",
       "stream": "stdout",
       "text": [
        "\n",
        "n_estimator =  128  | error_train = 0.15313  | error_valid = 0.22246 "
       ]
      },
      {
       "output_type": "stream",
       "stream": "stdout",
       "text": [
        "\n",
        "n_estimator =  129  | error_train = 0.15307  | error_valid = 0.22260 "
       ]
      },
      {
       "output_type": "stream",
       "stream": "stdout",
       "text": [
        "\n",
        "n_estimator =  130  | error_train = 0.15309  | error_valid = 0.22272 "
       ]
      },
      {
       "output_type": "stream",
       "stream": "stdout",
       "text": [
        "\n",
        "n_estimator =  131  | error_train = 0.15310  | error_valid = 0.22269 "
       ]
      },
      {
       "output_type": "stream",
       "stream": "stdout",
       "text": [
        "\n",
        "n_estimator =  132  | error_train = 0.15310  | error_valid = 0.22265 "
       ]
      },
      {
       "output_type": "stream",
       "stream": "stdout",
       "text": [
        "\n",
        "n_estimator =  133  | error_train = 0.15311  | error_valid = 0.22271 "
       ]
      },
      {
       "output_type": "stream",
       "stream": "stdout",
       "text": [
        "\n",
        "n_estimator =  134  | error_train = 0.15312  | error_valid = 0.22265 "
       ]
      },
      {
       "output_type": "stream",
       "stream": "stdout",
       "text": [
        "\n",
        "n_estimator =  135  | error_train = 0.15310  | error_valid = 0.22262 "
       ]
      },
      {
       "output_type": "stream",
       "stream": "stdout",
       "text": [
        "\n",
        "n_estimator =  136  | error_train = 0.15307  | error_valid = 0.22266 "
       ]
      },
      {
       "output_type": "stream",
       "stream": "stdout",
       "text": [
        "\n",
        "n_estimator =  137  | error_train = 0.15309  | error_valid = 0.22283 "
       ]
      },
      {
       "output_type": "stream",
       "stream": "stdout",
       "text": [
        "\n",
        "n_estimator =  138  | error_train = 0.15313  | error_valid = 0.22277 "
       ]
      },
      {
       "output_type": "stream",
       "stream": "stdout",
       "text": [
        "\n",
        "n_estimator =  139  | error_train = 0.15315  | error_valid = 0.22280 "
       ]
      },
      {
       "output_type": "stream",
       "stream": "stdout",
       "text": [
        "\n",
        "n_estimator =  140  | error_train = 0.15313  | error_valid = 0.22271 "
       ]
      },
      {
       "output_type": "stream",
       "stream": "stdout",
       "text": [
        "\n",
        "n_estimator =  141  | error_train = 0.15315  | error_valid = 0.22274 "
       ]
      },
      {
       "output_type": "stream",
       "stream": "stdout",
       "text": [
        "\n",
        "n_estimator =  142  | error_train = 0.15319  | error_valid = 0.22272 "
       ]
      },
      {
       "output_type": "stream",
       "stream": "stdout",
       "text": [
        "\n",
        "n_estimator =  143  | error_train = 0.15319  | error_valid = 0.22280 "
       ]
      },
      {
       "output_type": "stream",
       "stream": "stdout",
       "text": [
        "\n",
        "n_estimator =  144  | error_train = 0.15317  | error_valid = 0.22283 "
       ]
      },
      {
       "output_type": "stream",
       "stream": "stdout",
       "text": [
        "\n",
        "n_estimator =  145  | error_train = 0.15317  | error_valid = 0.22289 "
       ]
      },
      {
       "output_type": "stream",
       "stream": "stdout",
       "text": [
        "\n",
        "n_estimator =  146  | error_train = 0.15317  | error_valid = 0.22295 "
       ]
      },
      {
       "output_type": "stream",
       "stream": "stdout",
       "text": [
        "\n",
        "n_estimator =  147  | error_train = 0.15316  | error_valid = 0.22280 "
       ]
      },
      {
       "output_type": "stream",
       "stream": "stdout",
       "text": [
        "\n",
        "n_estimator =  148  | error_train = 0.15317  | error_valid = 0.22284 "
       ]
      },
      {
       "output_type": "stream",
       "stream": "stdout",
       "text": [
        "\n",
        "n_estimator =  149  | error_train = 0.15315  | error_valid = 0.22284 "
       ]
      },
      {
       "output_type": "stream",
       "stream": "stdout",
       "text": [
        "\n",
        "n_estimator =  150  | error_train = 0.15313  | error_valid = 0.22291 "
       ]
      },
      {
       "output_type": "stream",
       "stream": "stdout",
       "text": [
        "\n",
        "n_estimator =  151  | error_train = 0.15311  | error_valid = 0.22290 "
       ]
      },
      {
       "output_type": "stream",
       "stream": "stdout",
       "text": [
        "\n",
        "n_estimator =  152  | error_train = 0.15314  | error_valid = 0.22295 "
       ]
      },
      {
       "output_type": "stream",
       "stream": "stdout",
       "text": [
        "\n",
        "n_estimator =  153  | error_train = 0.15313  | error_valid = 0.22306 "
       ]
      },
      {
       "output_type": "stream",
       "stream": "stdout",
       "text": [
        "\n",
        "n_estimator =  154  | error_train = 0.15313  | error_valid = 0.22311 "
       ]
      },
      {
       "output_type": "stream",
       "stream": "stdout",
       "text": [
        "\n",
        "n_estimator =  155  | error_train = 0.15312  | error_valid = 0.22314 "
       ]
      },
      {
       "output_type": "stream",
       "stream": "stdout",
       "text": [
        "\n",
        "n_estimator =  156  | error_train = 0.15313  | error_valid = 0.22319 "
       ]
      },
      {
       "output_type": "stream",
       "stream": "stdout",
       "text": [
        "\n",
        "n_estimator =  157  | error_train = 0.15314  | error_valid = 0.22320 "
       ]
      },
      {
       "output_type": "stream",
       "stream": "stdout",
       "text": [
        "\n",
        "n_estimator =  158  | error_train = 0.15315  | error_valid = 0.22316 "
       ]
      },
      {
       "output_type": "stream",
       "stream": "stdout",
       "text": [
        "\n",
        "n_estimator =  159  | error_train = 0.15312  | error_valid = 0.22311 "
       ]
      },
      {
       "output_type": "stream",
       "stream": "stdout",
       "text": [
        "\n",
        "n_estimator =  160  | error_train = 0.15310  | error_valid = 0.22306 "
       ]
      },
      {
       "output_type": "stream",
       "stream": "stdout",
       "text": [
        "\n",
        "n_estimator =  161  | error_train = 0.15310  | error_valid = 0.22307 "
       ]
      },
      {
       "output_type": "stream",
       "stream": "stdout",
       "text": [
        "\n",
        "n_estimator =  162  | error_train = 0.15309  | error_valid = 0.22296 "
       ]
      },
      {
       "output_type": "stream",
       "stream": "stdout",
       "text": [
        "\n",
        "n_estimator =  163  | error_train = 0.15309  | error_valid = 0.22298 "
       ]
      },
      {
       "output_type": "stream",
       "stream": "stdout",
       "text": [
        "\n",
        "n_estimator =  164  | error_train = 0.15308  | error_valid = 0.22309 "
       ]
      },
      {
       "output_type": "stream",
       "stream": "stdout",
       "text": [
        "\n",
        "n_estimator =  165  | error_train = 0.15305  | error_valid = 0.22310 "
       ]
      },
      {
       "output_type": "stream",
       "stream": "stdout",
       "text": [
        "\n",
        "n_estimator =  166  | error_train = 0.15307  | error_valid = 0.22313 "
       ]
      },
      {
       "output_type": "stream",
       "stream": "stdout",
       "text": [
        "\n",
        "n_estimator =  167  | error_train = 0.15306  | error_valid = 0.22314 "
       ]
      },
      {
       "output_type": "stream",
       "stream": "stdout",
       "text": [
        "\n",
        "n_estimator =  168  | error_train = 0.15307  | error_valid = 0.22307 "
       ]
      },
      {
       "output_type": "stream",
       "stream": "stdout",
       "text": [
        "\n",
        "n_estimator =  169  | error_train = 0.15309  | error_valid = 0.22313 "
       ]
      },
      {
       "output_type": "stream",
       "stream": "stdout",
       "text": [
        "\n",
        "n_estimator =  170  | error_train = 0.15310  | error_valid = 0.22305 "
       ]
      },
      {
       "output_type": "stream",
       "stream": "stdout",
       "text": [
        "\n",
        "n_estimator =  171  | error_train = 0.15310  | error_valid = 0.22312 "
       ]
      },
      {
       "output_type": "stream",
       "stream": "stdout",
       "text": [
        "\n",
        "n_estimator =  172  | error_train = 0.15310  | error_valid = 0.22315 "
       ]
      },
      {
       "output_type": "stream",
       "stream": "stdout",
       "text": [
        "\n",
        "n_estimator =  173  | error_train = 0.15308  | error_valid = 0.22318 "
       ]
      },
      {
       "output_type": "stream",
       "stream": "stdout",
       "text": [
        "\n",
        "n_estimator =  174  | error_train = 0.15307  | error_valid = 0.22317 "
       ]
      },
      {
       "output_type": "stream",
       "stream": "stdout",
       "text": [
        "\n",
        "n_estimator =  175  | error_train = 0.15307  | error_valid = 0.22322 "
       ]
      },
      {
       "output_type": "stream",
       "stream": "stdout",
       "text": [
        "\n",
        "n_estimator =  176  | error_train = 0.15310  | error_valid = 0.22321 "
       ]
      },
      {
       "output_type": "stream",
       "stream": "stdout",
       "text": [
        "\n",
        "n_estimator =  177  | error_train = 0.15308  | error_valid = 0.22328 "
       ]
      },
      {
       "output_type": "stream",
       "stream": "stdout",
       "text": [
        "\n",
        "n_estimator =  178  | error_train = 0.15311  | error_valid = 0.22341 "
       ]
      },
      {
       "output_type": "stream",
       "stream": "stdout",
       "text": [
        "\n",
        "n_estimator =  179  | error_train = 0.15309  | error_valid = 0.22344 "
       ]
      },
      {
       "output_type": "stream",
       "stream": "stdout",
       "text": [
        "\n",
        "n_estimator =  180  | error_train = 0.15310  | error_valid = 0.22346 "
       ]
      },
      {
       "output_type": "stream",
       "stream": "stdout",
       "text": [
        "\n",
        "n_estimator =  181  | error_train = 0.15312  | error_valid = 0.22339 "
       ]
      },
      {
       "output_type": "stream",
       "stream": "stdout",
       "text": [
        "\n",
        "n_estimator =  182  | error_train = 0.15312  | error_valid = 0.22340 "
       ]
      },
      {
       "output_type": "stream",
       "stream": "stdout",
       "text": [
        "\n",
        "n_estimator =  183  | error_train = 0.15311  | error_valid = 0.22350 "
       ]
      },
      {
       "output_type": "stream",
       "stream": "stdout",
       "text": [
        "\n",
        "n_estimator =  184  | error_train = 0.15313  | error_valid = 0.22347 "
       ]
      },
      {
       "output_type": "stream",
       "stream": "stdout",
       "text": [
        "\n",
        "n_estimator =  185  | error_train = 0.15314  | error_valid = 0.22351 "
       ]
      },
      {
       "output_type": "stream",
       "stream": "stdout",
       "text": [
        "\n",
        "n_estimator =  186  | error_train = 0.15314  | error_valid = 0.22344 "
       ]
      },
      {
       "output_type": "stream",
       "stream": "stdout",
       "text": [
        "\n",
        "n_estimator =  187  | error_train = 0.15313  | error_valid = 0.22336 "
       ]
      },
      {
       "output_type": "stream",
       "stream": "stdout",
       "text": [
        "\n",
        "n_estimator =  188  | error_train = 0.15312  | error_valid = 0.22334 "
       ]
      },
      {
       "output_type": "stream",
       "stream": "stdout",
       "text": [
        "\n",
        "n_estimator =  189  | error_train = 0.15312  | error_valid = 0.22325 "
       ]
      },
      {
       "output_type": "stream",
       "stream": "stdout",
       "text": [
        "\n",
        "n_estimator =  190  | error_train = 0.15315  | error_valid = 0.22332 "
       ]
      },
      {
       "output_type": "stream",
       "stream": "stdout",
       "text": [
        "\n",
        "n_estimator =  191  | error_train = 0.15315  | error_valid = 0.22339 "
       ]
      },
      {
       "output_type": "stream",
       "stream": "stdout",
       "text": [
        "\n",
        "n_estimator =  192  | error_train = 0.15317  | error_valid = 0.22330 "
       ]
      },
      {
       "output_type": "stream",
       "stream": "stdout",
       "text": [
        "\n",
        "n_estimator =  193  | error_train = 0.15314  | error_valid = 0.22328 "
       ]
      },
      {
       "output_type": "stream",
       "stream": "stdout",
       "text": [
        "\n",
        "n_estimator =  194  | error_train = 0.15315  | error_valid = 0.22341 "
       ]
      },
      {
       "output_type": "stream",
       "stream": "stdout",
       "text": [
        "\n",
        "n_estimator =  195  | error_train = 0.15315  | error_valid = 0.22349 "
       ]
      },
      {
       "output_type": "stream",
       "stream": "stdout",
       "text": [
        "\n",
        "n_estimator =  196  | error_train = 0.15317  | error_valid = 0.22341 "
       ]
      },
      {
       "output_type": "stream",
       "stream": "stdout",
       "text": [
        "\n",
        "n_estimator =  197  | error_train = 0.15318  | error_valid = 0.22349 "
       ]
      },
      {
       "output_type": "stream",
       "stream": "stdout",
       "text": [
        "\n",
        "n_estimator =  198  | error_train = 0.15315  | error_valid = 0.22345 "
       ]
      },
      {
       "output_type": "stream",
       "stream": "stdout",
       "text": [
        "\n",
        "n_estimator =  199  | error_train = 0.15316  | error_valid = 0.22344 "
       ]
      },
      {
       "output_type": "stream",
       "stream": "stdout",
       "text": [
        "\n",
        "n_estimator =  200  | error_train = 0.15315  | error_valid = 0.22350 "
       ]
      },
      {
       "output_type": "stream",
       "stream": "stdout",
       "text": [
        "\n",
        "n_estimator =  201  | error_train = 0.15315  | error_valid = 0.22343 "
       ]
      },
      {
       "output_type": "stream",
       "stream": "stdout",
       "text": [
        "\n",
        "n_estimator =  202  | error_train = 0.15316  | error_valid = 0.22342 "
       ]
      },
      {
       "output_type": "stream",
       "stream": "stdout",
       "text": [
        "\n",
        "n_estimator =  203  | error_train = 0.15313  | error_valid = 0.22330 "
       ]
      },
      {
       "output_type": "stream",
       "stream": "stdout",
       "text": [
        "\n",
        "n_estimator =  204  | error_train = 0.15313  | error_valid = 0.22332 "
       ]
      },
      {
       "output_type": "stream",
       "stream": "stdout",
       "text": [
        "\n",
        "n_estimator =  205  | error_train = 0.15313  | error_valid = 0.22333 "
       ]
      },
      {
       "output_type": "stream",
       "stream": "stdout",
       "text": [
        "\n",
        "n_estimator =  206  | error_train = 0.15315  | error_valid = 0.22341 "
       ]
      },
      {
       "output_type": "stream",
       "stream": "stdout",
       "text": [
        "\n",
        "n_estimator =  207  | error_train = 0.15314  | error_valid = 0.22330 "
       ]
      },
      {
       "output_type": "stream",
       "stream": "stdout",
       "text": [
        "\n",
        "n_estimator =  208  | error_train = 0.15313  | error_valid = 0.22335 "
       ]
      },
      {
       "output_type": "stream",
       "stream": "stdout",
       "text": [
        "\n",
        "n_estimator =  209  | error_train = 0.15312  | error_valid = 0.22328 "
       ]
      },
      {
       "output_type": "stream",
       "stream": "stdout",
       "text": [
        "\n",
        "n_estimator =  210  | error_train = 0.15311  | error_valid = 0.22334 "
       ]
      },
      {
       "output_type": "stream",
       "stream": "stdout",
       "text": [
        "\n",
        "n_estimator =  211  | error_train = 0.15313  | error_valid = 0.22335 "
       ]
      },
      {
       "output_type": "stream",
       "stream": "stdout",
       "text": [
        "\n",
        "n_estimator =  212  | error_train = 0.15312  | error_valid = 0.22333 "
       ]
      },
      {
       "output_type": "stream",
       "stream": "stdout",
       "text": [
        "\n",
        "n_estimator =  213  | error_train = 0.15315  | error_valid = 0.22340 "
       ]
      },
      {
       "output_type": "stream",
       "stream": "stdout",
       "text": [
        "\n",
        "n_estimator =  214  | error_train = 0.15314  | error_valid = 0.22344 "
       ]
      },
      {
       "output_type": "stream",
       "stream": "stdout",
       "text": [
        "\n",
        "n_estimator =  215  | error_train = 0.15316  | error_valid = 0.22344 "
       ]
      },
      {
       "output_type": "stream",
       "stream": "stdout",
       "text": [
        "\n",
        "n_estimator =  216  | error_train = 0.15314  | error_valid = 0.22338 "
       ]
      },
      {
       "output_type": "stream",
       "stream": "stdout",
       "text": [
        "\n",
        "n_estimator =  217  | error_train = 0.15312  | error_valid = 0.22342 "
       ]
      },
      {
       "output_type": "stream",
       "stream": "stdout",
       "text": [
        "\n",
        "n_estimator =  218  | error_train = 0.15312  | error_valid = 0.22345 "
       ]
      },
      {
       "output_type": "stream",
       "stream": "stdout",
       "text": [
        "\n",
        "n_estimator =  219  | error_train = 0.15310  | error_valid = 0.22343 "
       ]
      },
      {
       "output_type": "stream",
       "stream": "stdout",
       "text": [
        "\n",
        "n_estimator =  220  | error_train = 0.15312  | error_valid = 0.22354 "
       ]
      },
      {
       "output_type": "stream",
       "stream": "stdout",
       "text": [
        "\n",
        "n_estimator =  221  | error_train = 0.15312  | error_valid = 0.22362 "
       ]
      },
      {
       "output_type": "stream",
       "stream": "stdout",
       "text": [
        "\n",
        "n_estimator =  222  | error_train = 0.15311  | error_valid = 0.22365 "
       ]
      },
      {
       "output_type": "stream",
       "stream": "stdout",
       "text": [
        "\n",
        "n_estimator =  223  | error_train = 0.15312  | error_valid = 0.22364 "
       ]
      },
      {
       "output_type": "stream",
       "stream": "stdout",
       "text": [
        "\n",
        "n_estimator =  224  | error_train = 0.15311  | error_valid = 0.22362 "
       ]
      },
      {
       "output_type": "stream",
       "stream": "stdout",
       "text": [
        "\n",
        "n_estimator =  225  | error_train = 0.15312  | error_valid = 0.22369 "
       ]
      },
      {
       "output_type": "stream",
       "stream": "stdout",
       "text": [
        "\n",
        "n_estimator =  226  | error_train = 0.15312  | error_valid = 0.22370 "
       ]
      },
      {
       "output_type": "stream",
       "stream": "stdout",
       "text": [
        "\n",
        "n_estimator =  227  | error_train = 0.15312  | error_valid = 0.22376 "
       ]
      },
      {
       "output_type": "stream",
       "stream": "stdout",
       "text": [
        "\n",
        "n_estimator =  228  | error_train = 0.15312  | error_valid = 0.22376 "
       ]
      },
      {
       "output_type": "stream",
       "stream": "stdout",
       "text": [
        "\n",
        "n_estimator =  229  | error_train = 0.15313  | error_valid = 0.22379 "
       ]
      },
      {
       "output_type": "stream",
       "stream": "stdout",
       "text": [
        "\n",
        "n_estimator =  230  | error_train = 0.15313  | error_valid = 0.22386 "
       ]
      },
      {
       "output_type": "stream",
       "stream": "stdout",
       "text": [
        "\n",
        "n_estimator =  231  | error_train = 0.15312  | error_valid = 0.22391 "
       ]
      },
      {
       "output_type": "stream",
       "stream": "stdout",
       "text": [
        "\n",
        "n_estimator =  232  | error_train = 0.15314  | error_valid = 0.22397 "
       ]
      },
      {
       "output_type": "stream",
       "stream": "stdout",
       "text": [
        "\n",
        "n_estimator =  233  | error_train = 0.15315  | error_valid = 0.22399 "
       ]
      },
      {
       "output_type": "stream",
       "stream": "stdout",
       "text": [
        "\n",
        "n_estimator =  234  | error_train = 0.15315  | error_valid = 0.22404 "
       ]
      },
      {
       "output_type": "stream",
       "stream": "stdout",
       "text": [
        "\n",
        "n_estimator =  235  | error_train = 0.15316  | error_valid = 0.22406 "
       ]
      },
      {
       "output_type": "stream",
       "stream": "stdout",
       "text": [
        "\n",
        "n_estimator =  236  | error_train = 0.15314  | error_valid = 0.22410 "
       ]
      },
      {
       "output_type": "stream",
       "stream": "stdout",
       "text": [
        "\n",
        "n_estimator =  237  | error_train = 0.15313  | error_valid = 0.22407 "
       ]
      },
      {
       "output_type": "stream",
       "stream": "stdout",
       "text": [
        "\n",
        "n_estimator =  238  | error_train = 0.15313  | error_valid = 0.22412 "
       ]
      },
      {
       "output_type": "stream",
       "stream": "stdout",
       "text": [
        "\n",
        "n_estimator =  239  | error_train = 0.15314  | error_valid = 0.22412 "
       ]
      },
      {
       "output_type": "stream",
       "stream": "stdout",
       "text": [
        "\n",
        "n_estimator =  240  | error_train = 0.15312  | error_valid = 0.22414 "
       ]
      },
      {
       "output_type": "stream",
       "stream": "stdout",
       "text": [
        "\n",
        "n_estimator =  241  | error_train = 0.15311  | error_valid = 0.22416 "
       ]
      },
      {
       "output_type": "stream",
       "stream": "stdout",
       "text": [
        "\n",
        "n_estimator =  242  | error_train = 0.15311  | error_valid = 0.22418 "
       ]
      },
      {
       "output_type": "stream",
       "stream": "stdout",
       "text": [
        "\n",
        "n_estimator =  243  | error_train = 0.15312  | error_valid = 0.22415 "
       ]
      },
      {
       "output_type": "stream",
       "stream": "stdout",
       "text": [
        "\n",
        "n_estimator =  244  | error_train = 0.15309  | error_valid = 0.22424 "
       ]
      },
      {
       "output_type": "stream",
       "stream": "stdout",
       "text": [
        "\n",
        "n_estimator =  245  | error_train = 0.15310  | error_valid = 0.22430 "
       ]
      },
      {
       "output_type": "stream",
       "stream": "stdout",
       "text": [
        "\n",
        "n_estimator =  246  | error_train = 0.15309  | error_valid = 0.22428 "
       ]
      },
      {
       "output_type": "stream",
       "stream": "stdout",
       "text": [
        "\n",
        "n_estimator =  247  | error_train = 0.15310  | error_valid = 0.22427 "
       ]
      },
      {
       "output_type": "stream",
       "stream": "stdout",
       "text": [
        "\n",
        "n_estimator =  248  | error_train = 0.15310  | error_valid = 0.22424 "
       ]
      },
      {
       "output_type": "stream",
       "stream": "stdout",
       "text": [
        "\n",
        "n_estimator =  249  | error_train = 0.15311  | error_valid = 0.22427 "
       ]
      },
      {
       "output_type": "stream",
       "stream": "stdout",
       "text": [
        "\n",
        "n_estimator =  250  | error_train = 0.15311  | error_valid = 0.22420 "
       ]
      },
      {
       "output_type": "stream",
       "stream": "stdout",
       "text": [
        "\n",
        "n_estimator =  251  | error_train = 0.15310  | error_valid = 0.22421 "
       ]
      },
      {
       "output_type": "stream",
       "stream": "stdout",
       "text": [
        "\n",
        "n_estimator =  252  | error_train = 0.15309  | error_valid = 0.22419 "
       ]
      },
      {
       "output_type": "stream",
       "stream": "stdout",
       "text": [
        "\n",
        "n_estimator =  253  | error_train = 0.15312  | error_valid = 0.22417 "
       ]
      },
      {
       "output_type": "stream",
       "stream": "stdout",
       "text": [
        "\n",
        "n_estimator =  254  | error_train = 0.15313  | error_valid = 0.22423 "
       ]
      },
      {
       "output_type": "stream",
       "stream": "stdout",
       "text": [
        "\n",
        "n_estimator =  255  | error_train = 0.15312  | error_valid = 0.22417 "
       ]
      },
      {
       "output_type": "stream",
       "stream": "stdout",
       "text": [
        "\n",
        "n_estimator =  256  | error_train = 0.15310  | error_valid = 0.22419 "
       ]
      },
      {
       "output_type": "stream",
       "stream": "stdout",
       "text": [
        "\n",
        "n_estimator =  257  | error_train = 0.15312  | error_valid = 0.22422 "
       ]
      },
      {
       "output_type": "stream",
       "stream": "stdout",
       "text": [
        "\n",
        "n_estimator =  258  | error_train = 0.15312  | error_valid = 0.22418 "
       ]
      },
      {
       "output_type": "stream",
       "stream": "stdout",
       "text": [
        "\n",
        "n_estimator =  259  | error_train = 0.15310  | error_valid = 0.22408 "
       ]
      },
      {
       "output_type": "stream",
       "stream": "stdout",
       "text": [
        "\n",
        "n_estimator =  260  | error_train = 0.15311  | error_valid = 0.22410 "
       ]
      },
      {
       "output_type": "stream",
       "stream": "stdout",
       "text": [
        "\n",
        "n_estimator =  261  | error_train = 0.15312  | error_valid = 0.22411 "
       ]
      },
      {
       "output_type": "stream",
       "stream": "stdout",
       "text": [
        "\n",
        "n_estimator =  262  | error_train = 0.15311  | error_valid = 0.22405 "
       ]
      },
      {
       "output_type": "stream",
       "stream": "stdout",
       "text": [
        "\n",
        "n_estimator =  263  | error_train = 0.15313  | error_valid = 0.22402 "
       ]
      },
      {
       "output_type": "stream",
       "stream": "stdout",
       "text": [
        "\n",
        "n_estimator =  264  | error_train = 0.15312  | error_valid = 0.22400 "
       ]
      },
      {
       "output_type": "stream",
       "stream": "stdout",
       "text": [
        "\n",
        "n_estimator =  265  | error_train = 0.15313  | error_valid = 0.22401 "
       ]
      },
      {
       "output_type": "stream",
       "stream": "stdout",
       "text": [
        "\n",
        "n_estimator =  266  | error_train = 0.15313  | error_valid = 0.22400 "
       ]
      },
      {
       "output_type": "stream",
       "stream": "stdout",
       "text": [
        "\n",
        "n_estimator =  267  | error_train = 0.15314  | error_valid = 0.22401 "
       ]
      },
      {
       "output_type": "stream",
       "stream": "stdout",
       "text": [
        "\n",
        "n_estimator =  268  | error_train = 0.15313  | error_valid = 0.22395 "
       ]
      },
      {
       "output_type": "stream",
       "stream": "stdout",
       "text": [
        "\n",
        "n_estimator =  269  | error_train = 0.15313  | error_valid = 0.22393 "
       ]
      },
      {
       "output_type": "stream",
       "stream": "stdout",
       "text": [
        "\n",
        "n_estimator =  270  | error_train = 0.15311  | error_valid = 0.22386 "
       ]
      },
      {
       "output_type": "stream",
       "stream": "stdout",
       "text": [
        "\n",
        "n_estimator =  271  | error_train = 0.15313  | error_valid = 0.22380 "
       ]
      },
      {
       "output_type": "stream",
       "stream": "stdout",
       "text": [
        "\n",
        "n_estimator =  272  | error_train = 0.15316  | error_valid = 0.22385 "
       ]
      },
      {
       "output_type": "stream",
       "stream": "stdout",
       "text": [
        "\n",
        "n_estimator =  273  | error_train = 0.15317  | error_valid = 0.22388 "
       ]
      },
      {
       "output_type": "stream",
       "stream": "stdout",
       "text": [
        "\n",
        "n_estimator =  274  | error_train = 0.15317  | error_valid = 0.22383 "
       ]
      },
      {
       "output_type": "stream",
       "stream": "stdout",
       "text": [
        "\n",
        "n_estimator =  275  | error_train = 0.15315  | error_valid = 0.22377 "
       ]
      },
      {
       "output_type": "stream",
       "stream": "stdout",
       "text": [
        "\n",
        "n_estimator =  276  | error_train = 0.15315  | error_valid = 0.22372 "
       ]
      },
      {
       "output_type": "stream",
       "stream": "stdout",
       "text": [
        "\n",
        "n_estimator =  277  | error_train = 0.15313  | error_valid = 0.22372 "
       ]
      },
      {
       "output_type": "stream",
       "stream": "stdout",
       "text": [
        "\n",
        "n_estimator =  278  | error_train = 0.15313  | error_valid = 0.22371 "
       ]
      },
      {
       "output_type": "stream",
       "stream": "stdout",
       "text": [
        "\n",
        "n_estimator =  279  | error_train = 0.15315  | error_valid = 0.22371 "
       ]
      },
      {
       "output_type": "stream",
       "stream": "stdout",
       "text": [
        "\n",
        "n_estimator =  280  | error_train = 0.15316  | error_valid = 0.22373 "
       ]
      },
      {
       "output_type": "stream",
       "stream": "stdout",
       "text": [
        "\n",
        "n_estimator =  281  | error_train = 0.15315  | error_valid = 0.22366 "
       ]
      },
      {
       "output_type": "stream",
       "stream": "stdout",
       "text": [
        "\n",
        "n_estimator =  282  | error_train = 0.15315  | error_valid = 0.22366 "
       ]
      },
      {
       "output_type": "stream",
       "stream": "stdout",
       "text": [
        "\n",
        "n_estimator =  283  | error_train = 0.15313  | error_valid = 0.22362 "
       ]
      },
      {
       "output_type": "stream",
       "stream": "stdout",
       "text": [
        "\n",
        "n_estimator =  284  | error_train = 0.15311  | error_valid = 0.22361 "
       ]
      },
      {
       "output_type": "stream",
       "stream": "stdout",
       "text": [
        "\n",
        "n_estimator =  285  | error_train = 0.15310  | error_valid = 0.22364 "
       ]
      },
      {
       "output_type": "stream",
       "stream": "stdout",
       "text": [
        "\n",
        "n_estimator =  286  | error_train = 0.15311  | error_valid = 0.22362 "
       ]
      },
      {
       "output_type": "stream",
       "stream": "stdout",
       "text": [
        "\n",
        "n_estimator =  287  | error_train = 0.15309  | error_valid = 0.22360 "
       ]
      },
      {
       "output_type": "stream",
       "stream": "stdout",
       "text": [
        "\n",
        "n_estimator =  288  | error_train = 0.15308  | error_valid = 0.22359 "
       ]
      },
      {
       "output_type": "stream",
       "stream": "stdout",
       "text": [
        "\n",
        "n_estimator =  289  | error_train = 0.15309  | error_valid = 0.22360 "
       ]
      },
      {
       "output_type": "stream",
       "stream": "stdout",
       "text": [
        "\n",
        "n_estimator =  290  | error_train = 0.15308  | error_valid = 0.22362 "
       ]
      },
      {
       "output_type": "stream",
       "stream": "stdout",
       "text": [
        "\n",
        "n_estimator =  291  | error_train = 0.15308  | error_valid = 0.22360 "
       ]
      },
      {
       "output_type": "stream",
       "stream": "stdout",
       "text": [
        "\n",
        "n_estimator =  292  | error_train = 0.15309  | error_valid = 0.22352 "
       ]
      },
      {
       "output_type": "stream",
       "stream": "stdout",
       "text": [
        "\n",
        "n_estimator =  293  | error_train = 0.15311  | error_valid = 0.22351 "
       ]
      },
      {
       "output_type": "stream",
       "stream": "stdout",
       "text": [
        "\n",
        "n_estimator =  294  | error_train = 0.15312  | error_valid = 0.22350 "
       ]
      },
      {
       "output_type": "stream",
       "stream": "stdout",
       "text": [
        "\n",
        "n_estimator =  295  | error_train = 0.15312  | error_valid = 0.22354 "
       ]
      },
      {
       "output_type": "stream",
       "stream": "stdout",
       "text": [
        "\n",
        "n_estimator =  296  | error_train = 0.15309  | error_valid = 0.22351 "
       ]
      },
      {
       "output_type": "stream",
       "stream": "stdout",
       "text": [
        "\n",
        "n_estimator =  297  | error_train = 0.15307  | error_valid = 0.22347 "
       ]
      },
      {
       "output_type": "stream",
       "stream": "stdout",
       "text": [
        "\n",
        "n_estimator =  298  | error_train = 0.15309  | error_valid = 0.22346 "
       ]
      },
      {
       "output_type": "stream",
       "stream": "stdout",
       "text": [
        "\n",
        "n_estimator =  299  | error_train = 0.15307  | error_valid = 0.22343 "
       ]
      },
      {
       "output_type": "stream",
       "stream": "stdout",
       "text": [
        "\n",
        "n_estimator =  300  | error_train = 0.15305  | error_valid = 0.22342 "
       ]
      },
      {
       "output_type": "stream",
       "stream": "stdout",
       "text": [
        "\n",
        "n_estimator =  301  | error_train = 0.15306  | error_valid = 0.22345 "
       ]
      },
      {
       "output_type": "stream",
       "stream": "stdout",
       "text": [
        "\n",
        "n_estimator =  302  | error_train = 0.15306  | error_valid = 0.22342 "
       ]
      },
      {
       "output_type": "stream",
       "stream": "stdout",
       "text": [
        "\n",
        "n_estimator =  303  | error_train = 0.15306  | error_valid = 0.22334 "
       ]
      },
      {
       "output_type": "stream",
       "stream": "stdout",
       "text": [
        "\n",
        "n_estimator =  304  | error_train = 0.15304  | error_valid = 0.22335 "
       ]
      },
      {
       "output_type": "stream",
       "stream": "stdout",
       "text": [
        "\n",
        "n_estimator =  305  | error_train = 0.15303  | error_valid = 0.22330 "
       ]
      },
      {
       "output_type": "stream",
       "stream": "stdout",
       "text": [
        "\n",
        "n_estimator =  306  | error_train = 0.15304  | error_valid = 0.22333 "
       ]
      },
      {
       "output_type": "stream",
       "stream": "stdout",
       "text": [
        "\n",
        "n_estimator =  307  | error_train = 0.15303  | error_valid = 0.22334 "
       ]
      },
      {
       "output_type": "stream",
       "stream": "stdout",
       "text": [
        "\n",
        "n_estimator =  308  | error_train = 0.15304  | error_valid = 0.22327 "
       ]
      },
      {
       "output_type": "stream",
       "stream": "stdout",
       "text": [
        "\n",
        "n_estimator =  309  | error_train = 0.15304  | error_valid = 0.22327 "
       ]
      },
      {
       "output_type": "stream",
       "stream": "stdout",
       "text": [
        "\n",
        "n_estimator =  310  | error_train = 0.15303  | error_valid = 0.22326 "
       ]
      },
      {
       "output_type": "stream",
       "stream": "stdout",
       "text": [
        "\n",
        "n_estimator =  311  | error_train = 0.15305  | error_valid = 0.22326 "
       ]
      },
      {
       "output_type": "stream",
       "stream": "stdout",
       "text": [
        "\n",
        "n_estimator =  312  | error_train = 0.15305  | error_valid = 0.22320 "
       ]
      },
      {
       "output_type": "stream",
       "stream": "stdout",
       "text": [
        "\n",
        "n_estimator =  313  | error_train = 0.15304  | error_valid = 0.22321 "
       ]
      },
      {
       "output_type": "stream",
       "stream": "stdout",
       "text": [
        "\n",
        "n_estimator =  314  | error_train = 0.15303  | error_valid = 0.22322 "
       ]
      },
      {
       "output_type": "stream",
       "stream": "stdout",
       "text": [
        "\n",
        "n_estimator =  315  | error_train = 0.15302  | error_valid = 0.22318 "
       ]
      },
      {
       "output_type": "stream",
       "stream": "stdout",
       "text": [
        "\n",
        "n_estimator =  316  | error_train = 0.15301  | error_valid = 0.22317 "
       ]
      },
      {
       "output_type": "stream",
       "stream": "stdout",
       "text": [
        "\n",
        "n_estimator =  317  | error_train = 0.15301  | error_valid = 0.22318 "
       ]
      },
      {
       "output_type": "stream",
       "stream": "stdout",
       "text": [
        "\n",
        "n_estimator =  318  | error_train = 0.15301  | error_valid = 0.22321 "
       ]
      },
      {
       "output_type": "stream",
       "stream": "stdout",
       "text": [
        "\n",
        "n_estimator =  319  | error_train = 0.15302  | error_valid = 0.22318 "
       ]
      },
      {
       "output_type": "stream",
       "stream": "stdout",
       "text": [
        "\n",
        "n_estimator =  320  | error_train = 0.15301  | error_valid = 0.22315 "
       ]
      },
      {
       "output_type": "stream",
       "stream": "stdout",
       "text": [
        "\n",
        "n_estimator =  321  | error_train = 0.15300  | error_valid = 0.22321 "
       ]
      },
      {
       "output_type": "stream",
       "stream": "stdout",
       "text": [
        "\n",
        "n_estimator =  322  | error_train = 0.15301  | error_valid = 0.22321 "
       ]
      },
      {
       "output_type": "stream",
       "stream": "stdout",
       "text": [
        "\n",
        "n_estimator =  323  | error_train = 0.15301  | error_valid = 0.22323 "
       ]
      },
      {
       "output_type": "stream",
       "stream": "stdout",
       "text": [
        "\n",
        "n_estimator =  324  | error_train = 0.15301  | error_valid = 0.22322 "
       ]
      },
      {
       "output_type": "stream",
       "stream": "stdout",
       "text": [
        "\n",
        "n_estimator =  325  | error_train = 0.15301  | error_valid = 0.22320 "
       ]
      },
      {
       "output_type": "stream",
       "stream": "stdout",
       "text": [
        "\n",
        "n_estimator =  326  | error_train = 0.15299  | error_valid = 0.22318 "
       ]
      },
      {
       "output_type": "stream",
       "stream": "stdout",
       "text": [
        "\n",
        "n_estimator =  327  | error_train = 0.15298  | error_valid = 0.22321 "
       ]
      },
      {
       "output_type": "stream",
       "stream": "stdout",
       "text": [
        "\n",
        "n_estimator =  328  | error_train = 0.15298  | error_valid = 0.22320 "
       ]
      },
      {
       "output_type": "stream",
       "stream": "stdout",
       "text": [
        "\n",
        "n_estimator =  329  | error_train = 0.15298  | error_valid = 0.22313 "
       ]
      },
      {
       "output_type": "stream",
       "stream": "stdout",
       "text": [
        "\n",
        "n_estimator =  330  | error_train = 0.15296  | error_valid = 0.22312 "
       ]
      },
      {
       "output_type": "stream",
       "stream": "stdout",
       "text": [
        "\n",
        "n_estimator =  331  | error_train = 0.15295  | error_valid = 0.22311 "
       ]
      },
      {
       "output_type": "stream",
       "stream": "stdout",
       "text": [
        "\n",
        "n_estimator =  332  | error_train = 0.15297  | error_valid = 0.22313 "
       ]
      },
      {
       "output_type": "stream",
       "stream": "stdout",
       "text": [
        "\n",
        "n_estimator =  333  | error_train = 0.15298  | error_valid = 0.22315 "
       ]
      },
      {
       "output_type": "stream",
       "stream": "stdout",
       "text": [
        "\n",
        "n_estimator =  334  | error_train = 0.15297  | error_valid = 0.22310 "
       ]
      },
      {
       "output_type": "stream",
       "stream": "stdout",
       "text": [
        "\n",
        "n_estimator =  335  | error_train = 0.15297  | error_valid = 0.22314 "
       ]
      },
      {
       "output_type": "stream",
       "stream": "stdout",
       "text": [
        "\n",
        "n_estimator =  336  | error_train = 0.15300  | error_valid = 0.22317 "
       ]
      },
      {
       "output_type": "stream",
       "stream": "stdout",
       "text": [
        "\n",
        "n_estimator =  337  | error_train = 0.15302  | error_valid = 0.22321 "
       ]
      },
      {
       "output_type": "stream",
       "stream": "stdout",
       "text": [
        "\n",
        "n_estimator =  338  | error_train = 0.15303  | error_valid = 0.22322 "
       ]
      },
      {
       "output_type": "stream",
       "stream": "stdout",
       "text": [
        "\n",
        "n_estimator =  339  | error_train = 0.15302  | error_valid = 0.22321 "
       ]
      },
      {
       "output_type": "stream",
       "stream": "stdout",
       "text": [
        "\n",
        "n_estimator =  340  | error_train = 0.15302  | error_valid = 0.22324 "
       ]
      },
      {
       "output_type": "stream",
       "stream": "stdout",
       "text": [
        "\n",
        "n_estimator =  341  | error_train = 0.15303  | error_valid = 0.22328 "
       ]
      },
      {
       "output_type": "stream",
       "stream": "stdout",
       "text": [
        "\n",
        "n_estimator =  342  | error_train = 0.15303  | error_valid = 0.22323 "
       ]
      },
      {
       "output_type": "stream",
       "stream": "stdout",
       "text": [
        "\n",
        "n_estimator =  343  | error_train = 0.15304  | error_valid = 0.22329 "
       ]
      },
      {
       "output_type": "stream",
       "stream": "stdout",
       "text": [
        "\n",
        "n_estimator =  344  | error_train = 0.15305  | error_valid = 0.22330 "
       ]
      },
      {
       "output_type": "stream",
       "stream": "stdout",
       "text": [
        "\n",
        "n_estimator =  345  | error_train = 0.15303  | error_valid = 0.22332 "
       ]
      },
      {
       "output_type": "stream",
       "stream": "stdout",
       "text": [
        "\n",
        "n_estimator =  346  | error_train = 0.15304  | error_valid = 0.22335 "
       ]
      },
      {
       "output_type": "stream",
       "stream": "stdout",
       "text": [
        "\n",
        "n_estimator =  347  | error_train = 0.15304  | error_valid = 0.22339 "
       ]
      },
      {
       "output_type": "stream",
       "stream": "stdout",
       "text": [
        "\n",
        "n_estimator =  348  | error_train = 0.15306  | error_valid = 0.22340 "
       ]
      },
      {
       "output_type": "stream",
       "stream": "stdout",
       "text": [
        "\n",
        "n_estimator =  349  | error_train = 0.15305  | error_valid = 0.22342 "
       ]
      },
      {
       "output_type": "stream",
       "stream": "stdout",
       "text": [
        "\n",
        "n_estimator =  350  | error_train = 0.15306  | error_valid = 0.22340 "
       ]
      },
      {
       "output_type": "stream",
       "stream": "stdout",
       "text": [
        "\n",
        "n_estimator =  351  | error_train = 0.15306  | error_valid = 0.22338 "
       ]
      },
      {
       "output_type": "stream",
       "stream": "stdout",
       "text": [
        "\n",
        "n_estimator =  352  | error_train = 0.15306  | error_valid = 0.22338 "
       ]
      },
      {
       "output_type": "stream",
       "stream": "stdout",
       "text": [
        "\n",
        "n_estimator =  353  | error_train = 0.15305  | error_valid = 0.22337 "
       ]
      },
      {
       "output_type": "stream",
       "stream": "stdout",
       "text": [
        "\n",
        "n_estimator =  354  | error_train = 0.15304  | error_valid = 0.22339 "
       ]
      },
      {
       "output_type": "stream",
       "stream": "stdout",
       "text": [
        "\n",
        "n_estimator =  355  | error_train = 0.15303  | error_valid = 0.22344 "
       ]
      },
      {
       "output_type": "stream",
       "stream": "stdout",
       "text": [
        "\n",
        "n_estimator =  356  | error_train = 0.15305  | error_valid = 0.22349 "
       ]
      },
      {
       "output_type": "stream",
       "stream": "stdout",
       "text": [
        "\n",
        "n_estimator =  357  | error_train = 0.15306  | error_valid = 0.22349 "
       ]
      },
      {
       "output_type": "stream",
       "stream": "stdout",
       "text": [
        "\n",
        "n_estimator =  358  | error_train = 0.15307  | error_valid = 0.22347 "
       ]
      },
      {
       "output_type": "stream",
       "stream": "stdout",
       "text": [
        "\n",
        "n_estimator =  359  | error_train = 0.15306  | error_valid = 0.22350 "
       ]
      },
      {
       "output_type": "stream",
       "stream": "stdout",
       "text": [
        "\n",
        "n_estimator =  360  | error_train = 0.15306  | error_valid = 0.22351 "
       ]
      },
      {
       "output_type": "stream",
       "stream": "stdout",
       "text": [
        "\n",
        "n_estimator =  361  | error_train = 0.15306  | error_valid = 0.22350 "
       ]
      },
      {
       "output_type": "stream",
       "stream": "stdout",
       "text": [
        "\n",
        "n_estimator =  362  | error_train = 0.15305  | error_valid = 0.22353 "
       ]
      },
      {
       "output_type": "stream",
       "stream": "stdout",
       "text": [
        "\n",
        "n_estimator =  363  | error_train = 0.15306  | error_valid = 0.22351 "
       ]
      },
      {
       "output_type": "stream",
       "stream": "stdout",
       "text": [
        "\n",
        "n_estimator =  364  | error_train = 0.15306  | error_valid = 0.22348 "
       ]
      },
      {
       "output_type": "stream",
       "stream": "stdout",
       "text": [
        "\n",
        "n_estimator =  365  | error_train = 0.15306  | error_valid = 0.22346 "
       ]
      },
      {
       "output_type": "stream",
       "stream": "stdout",
       "text": [
        "\n",
        "n_estimator =  366  | error_train = 0.15307  | error_valid = 0.22346 "
       ]
      },
      {
       "output_type": "stream",
       "stream": "stdout",
       "text": [
        "\n",
        "n_estimator =  367  | error_train = 0.15306  | error_valid = 0.22344 "
       ]
      },
      {
       "output_type": "stream",
       "stream": "stdout",
       "text": [
        "\n",
        "n_estimator =  368  | error_train = 0.15306  | error_valid = 0.22344 "
       ]
      },
      {
       "output_type": "stream",
       "stream": "stdout",
       "text": [
        "\n",
        "n_estimator =  369  | error_train = 0.15306  | error_valid = 0.22340 "
       ]
      },
      {
       "output_type": "stream",
       "stream": "stdout",
       "text": [
        "\n",
        "n_estimator =  370  | error_train = 0.15307  | error_valid = 0.22340 "
       ]
      },
      {
       "output_type": "stream",
       "stream": "stdout",
       "text": [
        "\n",
        "n_estimator =  371  | error_train = 0.15308  | error_valid = 0.22340 "
       ]
      },
      {
       "output_type": "stream",
       "stream": "stdout",
       "text": [
        "\n",
        "n_estimator =  372  | error_train = 0.15308  | error_valid = 0.22336 "
       ]
      },
      {
       "output_type": "stream",
       "stream": "stdout",
       "text": [
        "\n",
        "n_estimator =  373  | error_train = 0.15307  | error_valid = 0.22335 "
       ]
      },
      {
       "output_type": "stream",
       "stream": "stdout",
       "text": [
        "\n",
        "n_estimator =  374  | error_train = 0.15307  | error_valid = 0.22337 "
       ]
      },
      {
       "output_type": "stream",
       "stream": "stdout",
       "text": [
        "\n",
        "n_estimator =  375  | error_train = 0.15306  | error_valid = 0.22341 "
       ]
      },
      {
       "output_type": "stream",
       "stream": "stdout",
       "text": [
        "\n",
        "n_estimator =  376  | error_train = 0.15307  | error_valid = 0.22343 "
       ]
      },
      {
       "output_type": "stream",
       "stream": "stdout",
       "text": [
        "\n",
        "n_estimator =  377  | error_train = 0.15308  | error_valid = 0.22344 "
       ]
      },
      {
       "output_type": "stream",
       "stream": "stdout",
       "text": [
        "\n",
        "n_estimator =  378  | error_train = 0.15308  | error_valid = 0.22348 "
       ]
      },
      {
       "output_type": "stream",
       "stream": "stdout",
       "text": [
        "\n",
        "n_estimator =  379  | error_train = 0.15308  | error_valid = 0.22350 "
       ]
      },
      {
       "output_type": "stream",
       "stream": "stdout",
       "text": [
        "\n",
        "n_estimator =  380  | error_train = 0.15307  | error_valid = 0.22352 "
       ]
      },
      {
       "output_type": "stream",
       "stream": "stdout",
       "text": [
        "\n",
        "n_estimator =  381  | error_train = 0.15306  | error_valid = 0.22353 "
       ]
      },
      {
       "output_type": "stream",
       "stream": "stdout",
       "text": [
        "\n",
        "n_estimator =  382  | error_train = 0.15306  | error_valid = 0.22357 "
       ]
      },
      {
       "output_type": "stream",
       "stream": "stdout",
       "text": [
        "\n",
        "n_estimator =  383  | error_train = 0.15306  | error_valid = 0.22351 "
       ]
      },
      {
       "output_type": "stream",
       "stream": "stdout",
       "text": [
        "\n",
        "n_estimator =  384  | error_train = 0.15307  | error_valid = 0.22349 "
       ]
      },
      {
       "output_type": "stream",
       "stream": "stdout",
       "text": [
        "\n",
        "n_estimator =  385  | error_train = 0.15306  | error_valid = 0.22346 "
       ]
      },
      {
       "output_type": "stream",
       "stream": "stdout",
       "text": [
        "\n",
        "n_estimator =  386  | error_train = 0.15306  | error_valid = 0.22343 "
       ]
      },
      {
       "output_type": "stream",
       "stream": "stdout",
       "text": [
        "\n",
        "n_estimator =  387  | error_train = 0.15306  | error_valid = 0.22341 "
       ]
      },
      {
       "output_type": "stream",
       "stream": "stdout",
       "text": [
        "\n",
        "n_estimator =  388  | error_train = 0.15306  | error_valid = 0.22337 "
       ]
      },
      {
       "output_type": "stream",
       "stream": "stdout",
       "text": [
        "\n",
        "n_estimator =  389  | error_train = 0.15306  | error_valid = 0.22336 "
       ]
      },
      {
       "output_type": "stream",
       "stream": "stdout",
       "text": [
        "\n",
        "n_estimator =  390  | error_train = 0.15306  | error_valid = 0.22346 "
       ]
      },
      {
       "output_type": "stream",
       "stream": "stdout",
       "text": [
        "\n",
        "n_estimator =  391  | error_train = 0.15306  | error_valid = 0.22345 "
       ]
      },
      {
       "output_type": "stream",
       "stream": "stdout",
       "text": [
        "\n",
        "n_estimator =  392  | error_train = 0.15304  | error_valid = 0.22347 "
       ]
      },
      {
       "output_type": "stream",
       "stream": "stdout",
       "text": [
        "\n",
        "n_estimator =  393  | error_train = 0.15304  | error_valid = 0.22347 "
       ]
      },
      {
       "output_type": "stream",
       "stream": "stdout",
       "text": [
        "\n",
        "n_estimator =  394  | error_train = 0.15305  | error_valid = 0.22345 "
       ]
      },
      {
       "output_type": "stream",
       "stream": "stdout",
       "text": [
        "\n",
        "n_estimator =  395  | error_train = 0.15305  | error_valid = 0.22349 "
       ]
      },
      {
       "output_type": "stream",
       "stream": "stdout",
       "text": [
        "\n",
        "n_estimator =  396  | error_train = 0.15305  | error_valid = 0.22350 "
       ]
      },
      {
       "output_type": "stream",
       "stream": "stdout",
       "text": [
        "\n",
        "n_estimator =  397  | error_train = 0.15305  | error_valid = 0.22348 "
       ]
      },
      {
       "output_type": "stream",
       "stream": "stdout",
       "text": [
        "\n",
        "n_estimator =  398  | error_train = 0.15306  | error_valid = 0.22345 "
       ]
      },
      {
       "output_type": "stream",
       "stream": "stdout",
       "text": [
        "\n",
        "n_estimator =  399  | error_train = 0.15306  | error_valid = 0.22338 "
       ]
      },
      {
       "output_type": "stream",
       "stream": "stdout",
       "text": [
        "\n",
        "n_estimator =  400  | error_train = 0.15305  | error_valid = 0.22335 "
       ]
      },
      {
       "output_type": "stream",
       "stream": "stdout",
       "text": [
        "\n",
        "n_estimator =  401  | error_train = 0.15305  | error_valid = 0.22335 "
       ]
      },
      {
       "output_type": "stream",
       "stream": "stdout",
       "text": [
        "\n",
        "n_estimator =  402  | error_train = 0.15306  | error_valid = 0.22333 "
       ]
      },
      {
       "output_type": "stream",
       "stream": "stdout",
       "text": [
        "\n",
        "n_estimator =  403  | error_train = 0.15306  | error_valid = 0.22334 "
       ]
      },
      {
       "output_type": "stream",
       "stream": "stdout",
       "text": [
        "\n",
        "n_estimator =  404  | error_train = 0.15308  | error_valid = 0.22335 "
       ]
      },
      {
       "output_type": "stream",
       "stream": "stdout",
       "text": [
        "\n",
        "n_estimator =  405  | error_train = 0.15307  | error_valid = 0.22333 "
       ]
      },
      {
       "output_type": "stream",
       "stream": "stdout",
       "text": [
        "\n",
        "n_estimator =  406  | error_train = 0.15307  | error_valid = 0.22334 "
       ]
      },
      {
       "output_type": "stream",
       "stream": "stdout",
       "text": [
        "\n",
        "n_estimator =  407  | error_train = 0.15306  | error_valid = 0.22332 "
       ]
      },
      {
       "output_type": "stream",
       "stream": "stdout",
       "text": [
        "\n",
        "n_estimator =  408  | error_train = 0.15307  | error_valid = 0.22330 "
       ]
      },
      {
       "output_type": "stream",
       "stream": "stdout",
       "text": [
        "\n",
        "n_estimator =  409  | error_train = 0.15306  | error_valid = 0.22326 "
       ]
      },
      {
       "output_type": "stream",
       "stream": "stdout",
       "text": [
        "\n",
        "n_estimator =  410  | error_train = 0.15306  | error_valid = 0.22328 "
       ]
      },
      {
       "output_type": "stream",
       "stream": "stdout",
       "text": [
        "\n",
        "n_estimator =  411  | error_train = 0.15305  | error_valid = 0.22326 "
       ]
      },
      {
       "output_type": "stream",
       "stream": "stdout",
       "text": [
        "\n",
        "n_estimator =  412  | error_train = 0.15304  | error_valid = 0.22322 "
       ]
      },
      {
       "output_type": "stream",
       "stream": "stdout",
       "text": [
        "\n",
        "n_estimator =  413  | error_train = 0.15304  | error_valid = 0.22324 "
       ]
      },
      {
       "output_type": "stream",
       "stream": "stdout",
       "text": [
        "\n",
        "n_estimator =  414  | error_train = 0.15303  | error_valid = 0.22318 "
       ]
      },
      {
       "output_type": "stream",
       "stream": "stdout",
       "text": [
        "\n",
        "n_estimator =  415  | error_train = 0.15303  | error_valid = 0.22318 "
       ]
      },
      {
       "output_type": "stream",
       "stream": "stdout",
       "text": [
        "\n",
        "n_estimator =  416  | error_train = 0.15303  | error_valid = 0.22318 "
       ]
      },
      {
       "output_type": "stream",
       "stream": "stdout",
       "text": [
        "\n",
        "n_estimator =  417  | error_train = 0.15303  | error_valid = 0.22316 "
       ]
      },
      {
       "output_type": "stream",
       "stream": "stdout",
       "text": [
        "\n",
        "n_estimator =  418  | error_train = 0.15302  | error_valid = 0.22321 "
       ]
      },
      {
       "output_type": "stream",
       "stream": "stdout",
       "text": [
        "\n",
        "n_estimator =  419  | error_train = 0.15304  | error_valid = 0.22322 "
       ]
      },
      {
       "output_type": "stream",
       "stream": "stdout",
       "text": [
        "\n",
        "n_estimator =  420  | error_train = 0.15304  | error_valid = 0.22317 "
       ]
      },
      {
       "output_type": "stream",
       "stream": "stdout",
       "text": [
        "\n",
        "n_estimator =  421  | error_train = 0.15304  | error_valid = 0.22319 "
       ]
      },
      {
       "output_type": "stream",
       "stream": "stdout",
       "text": [
        "\n",
        "n_estimator =  422  | error_train = 0.15303  | error_valid = 0.22317 "
       ]
      },
      {
       "output_type": "stream",
       "stream": "stdout",
       "text": [
        "\n",
        "n_estimator =  423  | error_train = 0.15304  | error_valid = 0.22314 "
       ]
      },
      {
       "output_type": "stream",
       "stream": "stdout",
       "text": [
        "\n",
        "n_estimator =  424  | error_train = 0.15302  | error_valid = 0.22311 "
       ]
      },
      {
       "output_type": "stream",
       "stream": "stdout",
       "text": [
        "\n",
        "n_estimator =  425  | error_train = 0.15301  | error_valid = 0.22314 "
       ]
      },
      {
       "output_type": "stream",
       "stream": "stdout",
       "text": [
        "\n",
        "n_estimator =  426  | error_train = 0.15302  | error_valid = 0.22316 "
       ]
      },
      {
       "output_type": "stream",
       "stream": "stdout",
       "text": [
        "\n",
        "n_estimator =  427  | error_train = 0.15302  | error_valid = 0.22317 "
       ]
      },
      {
       "output_type": "stream",
       "stream": "stdout",
       "text": [
        "\n",
        "n_estimator =  428  | error_train = 0.15301  | error_valid = 0.22316 "
       ]
      },
      {
       "output_type": "stream",
       "stream": "stdout",
       "text": [
        "\n",
        "n_estimator =  429  | error_train = 0.15303  | error_valid = 0.22320 "
       ]
      },
      {
       "output_type": "stream",
       "stream": "stdout",
       "text": [
        "\n",
        "n_estimator =  430  | error_train = 0.15303  | error_valid = 0.22323 "
       ]
      },
      {
       "output_type": "stream",
       "stream": "stdout",
       "text": [
        "\n",
        "n_estimator =  431  | error_train = 0.15304  | error_valid = 0.22319 "
       ]
      },
      {
       "output_type": "stream",
       "stream": "stdout",
       "text": [
        "\n",
        "n_estimator =  432  | error_train = 0.15303  | error_valid = 0.22323 "
       ]
      },
      {
       "output_type": "stream",
       "stream": "stdout",
       "text": [
        "\n",
        "n_estimator =  433  | error_train = 0.15303  | error_valid = 0.22322 "
       ]
      },
      {
       "output_type": "stream",
       "stream": "stdout",
       "text": [
        "\n",
        "n_estimator =  434  | error_train = 0.15302  | error_valid = 0.22319 "
       ]
      },
      {
       "output_type": "stream",
       "stream": "stdout",
       "text": [
        "\n",
        "n_estimator =  435  | error_train = 0.15301  | error_valid = 0.22316 "
       ]
      },
      {
       "output_type": "stream",
       "stream": "stdout",
       "text": [
        "\n",
        "n_estimator =  436  | error_train = 0.15300  | error_valid = 0.22311 "
       ]
      },
      {
       "output_type": "stream",
       "stream": "stdout",
       "text": [
        "\n",
        "n_estimator =  437  | error_train = 0.15300  | error_valid = 0.22309 "
       ]
      },
      {
       "output_type": "stream",
       "stream": "stdout",
       "text": [
        "\n",
        "n_estimator =  438  | error_train = 0.15300  | error_valid = 0.22310 "
       ]
      },
      {
       "output_type": "stream",
       "stream": "stdout",
       "text": [
        "\n",
        "n_estimator =  439  | error_train = 0.15300  | error_valid = 0.22310 "
       ]
      },
      {
       "output_type": "stream",
       "stream": "stdout",
       "text": [
        "\n",
        "n_estimator =  440  | error_train = 0.15300  | error_valid = 0.22310 "
       ]
      },
      {
       "output_type": "stream",
       "stream": "stdout",
       "text": [
        "\n",
        "n_estimator =  441  | error_train = 0.15301  | error_valid = 0.22308 "
       ]
      },
      {
       "output_type": "stream",
       "stream": "stdout",
       "text": [
        "\n",
        "n_estimator =  442  | error_train = 0.15301  | error_valid = 0.22305 "
       ]
      },
      {
       "output_type": "stream",
       "stream": "stdout",
       "text": [
        "\n",
        "n_estimator =  443  | error_train = 0.15301  | error_valid = 0.22306 "
       ]
      },
      {
       "output_type": "stream",
       "stream": "stdout",
       "text": [
        "\n",
        "n_estimator =  444  | error_train = 0.15301  | error_valid = 0.22309 "
       ]
      },
      {
       "output_type": "stream",
       "stream": "stdout",
       "text": [
        "\n",
        "n_estimator =  445  | error_train = 0.15300  | error_valid = 0.22309 "
       ]
      },
      {
       "output_type": "stream",
       "stream": "stdout",
       "text": [
        "\n",
        "n_estimator =  446  | error_train = 0.15300  | error_valid = 0.22309 "
       ]
      },
      {
       "output_type": "stream",
       "stream": "stdout",
       "text": [
        "\n",
        "n_estimator =  447  | error_train = 0.15299  | error_valid = 0.22311 "
       ]
      },
      {
       "output_type": "stream",
       "stream": "stdout",
       "text": [
        "\n",
        "n_estimator =  448  | error_train = 0.15299  | error_valid = 0.22312 "
       ]
      },
      {
       "output_type": "stream",
       "stream": "stdout",
       "text": [
        "\n",
        "n_estimator =  449  | error_train = 0.15300  | error_valid = 0.22310 "
       ]
      },
      {
       "output_type": "stream",
       "stream": "stdout",
       "text": [
        "\n",
        "n_estimator =  450  | error_train = 0.15300  | error_valid = 0.22310 "
       ]
      },
      {
       "output_type": "stream",
       "stream": "stdout",
       "text": [
        "\n",
        "n_estimator =  451  | error_train = 0.15300  | error_valid = 0.22309 "
       ]
      },
      {
       "output_type": "stream",
       "stream": "stdout",
       "text": [
        "\n",
        "n_estimator =  452  | error_train = 0.15299  | error_valid = 0.22308 "
       ]
      },
      {
       "output_type": "stream",
       "stream": "stdout",
       "text": [
        "\n",
        "n_estimator =  453  | error_train = 0.15301  | error_valid = 0.22306 "
       ]
      },
      {
       "output_type": "stream",
       "stream": "stdout",
       "text": [
        "\n",
        "n_estimator =  454  | error_train = 0.15300  | error_valid = 0.22308 "
       ]
      },
      {
       "output_type": "stream",
       "stream": "stdout",
       "text": [
        "\n",
        "n_estimator =  455  | error_train = 0.15301  | error_valid = 0.22305 "
       ]
      },
      {
       "output_type": "stream",
       "stream": "stdout",
       "text": [
        "\n",
        "n_estimator =  456  | error_train = 0.15300  | error_valid = 0.22304 "
       ]
      },
      {
       "output_type": "stream",
       "stream": "stdout",
       "text": [
        "\n",
        "n_estimator =  457  | error_train = 0.15301  | error_valid = 0.22306 "
       ]
      },
      {
       "output_type": "stream",
       "stream": "stdout",
       "text": [
        "\n",
        "n_estimator =  458  | error_train = 0.15299  | error_valid = 0.22303 "
       ]
      },
      {
       "output_type": "stream",
       "stream": "stdout",
       "text": [
        "\n",
        "n_estimator =  459  | error_train = 0.15299  | error_valid = 0.22305 "
       ]
      },
      {
       "output_type": "stream",
       "stream": "stdout",
       "text": [
        "\n",
        "n_estimator =  460  | error_train = 0.15298  | error_valid = 0.22307 "
       ]
      },
      {
       "output_type": "stream",
       "stream": "stdout",
       "text": [
        "\n",
        "n_estimator =  461  | error_train = 0.15299  | error_valid = 0.22306 "
       ]
      },
      {
       "output_type": "stream",
       "stream": "stdout",
       "text": [
        "\n",
        "n_estimator =  462  | error_train = 0.15298  | error_valid = 0.22309 "
       ]
      },
      {
       "output_type": "stream",
       "stream": "stdout",
       "text": [
        "\n",
        "n_estimator =  463  | error_train = 0.15300  | error_valid = 0.22310 "
       ]
      },
      {
       "output_type": "stream",
       "stream": "stdout",
       "text": [
        "\n",
        "n_estimator =  464  | error_train = 0.15301  | error_valid = 0.22313 "
       ]
      },
      {
       "output_type": "stream",
       "stream": "stdout",
       "text": [
        "\n",
        "n_estimator =  465  | error_train = 0.15300  | error_valid = 0.22311 "
       ]
      },
      {
       "output_type": "stream",
       "stream": "stdout",
       "text": [
        "\n",
        "n_estimator =  466  | error_train = 0.15300  | error_valid = 0.22307 "
       ]
      },
      {
       "output_type": "stream",
       "stream": "stdout",
       "text": [
        "\n",
        "n_estimator =  467  | error_train = 0.15300  | error_valid = 0.22305 "
       ]
      },
      {
       "output_type": "stream",
       "stream": "stdout",
       "text": [
        "\n",
        "n_estimator =  468  | error_train = 0.15301  | error_valid = 0.22306 "
       ]
      },
      {
       "output_type": "stream",
       "stream": "stdout",
       "text": [
        "\n",
        "n_estimator =  469  | error_train = 0.15301  | error_valid = 0.22307 "
       ]
      },
      {
       "output_type": "stream",
       "stream": "stdout",
       "text": [
        "\n",
        "n_estimator =  470  | error_train = 0.15302  | error_valid = 0.22308 "
       ]
      },
      {
       "output_type": "stream",
       "stream": "stdout",
       "text": [
        "\n",
        "n_estimator =  471  | error_train = 0.15304  | error_valid = 0.22305 "
       ]
      },
      {
       "output_type": "stream",
       "stream": "stdout",
       "text": [
        "\n",
        "n_estimator =  472  | error_train = 0.15302  | error_valid = 0.22304 "
       ]
      },
      {
       "output_type": "stream",
       "stream": "stdout",
       "text": [
        "\n",
        "n_estimator =  473  | error_train = 0.15302  | error_valid = 0.22302 "
       ]
      },
      {
       "output_type": "stream",
       "stream": "stdout",
       "text": [
        "\n",
        "n_estimator =  474  | error_train = 0.15304  | error_valid = 0.22304 "
       ]
      },
      {
       "output_type": "stream",
       "stream": "stdout",
       "text": [
        "\n",
        "n_estimator =  475  | error_train = 0.15305  | error_valid = 0.22298 "
       ]
      },
      {
       "output_type": "stream",
       "stream": "stdout",
       "text": [
        "\n",
        "n_estimator =  476  | error_train = 0.15305  | error_valid = 0.22297 "
       ]
      },
      {
       "output_type": "stream",
       "stream": "stdout",
       "text": [
        "\n",
        "n_estimator =  477  | error_train = 0.15304  | error_valid = 0.22297 "
       ]
      },
      {
       "output_type": "stream",
       "stream": "stdout",
       "text": [
        "\n",
        "n_estimator =  478  | error_train = 0.15303  | error_valid = 0.22297 "
       ]
      },
      {
       "output_type": "stream",
       "stream": "stdout",
       "text": [
        "\n",
        "n_estimator =  479  | error_train = 0.15302  | error_valid = 0.22296 "
       ]
      },
      {
       "output_type": "stream",
       "stream": "stdout",
       "text": [
        "\n",
        "n_estimator =  480  | error_train = 0.15303  | error_valid = 0.22299 "
       ]
      },
      {
       "output_type": "stream",
       "stream": "stdout",
       "text": [
        "\n",
        "n_estimator =  481  | error_train = 0.15303  | error_valid = 0.22299 "
       ]
      },
      {
       "output_type": "stream",
       "stream": "stdout",
       "text": [
        "\n",
        "n_estimator =  482  | error_train = 0.15303  | error_valid = 0.22300 "
       ]
      },
      {
       "output_type": "stream",
       "stream": "stdout",
       "text": [
        "\n",
        "n_estimator =  483  | error_train = 0.15304  | error_valid = 0.22304 "
       ]
      },
      {
       "output_type": "stream",
       "stream": "stdout",
       "text": [
        "\n",
        "n_estimator =  484  | error_train = 0.15304  | error_valid = 0.22305 "
       ]
      },
      {
       "output_type": "stream",
       "stream": "stdout",
       "text": [
        "\n",
        "n_estimator =  485  | error_train = 0.15305  | error_valid = 0.22306 "
       ]
      },
      {
       "output_type": "stream",
       "stream": "stdout",
       "text": [
        "\n",
        "n_estimator =  486  | error_train = 0.15305  | error_valid = 0.22308 "
       ]
      },
      {
       "output_type": "stream",
       "stream": "stdout",
       "text": [
        "\n",
        "n_estimator =  487  | error_train = 0.15305  | error_valid = 0.22308 "
       ]
      },
      {
       "output_type": "stream",
       "stream": "stdout",
       "text": [
        "\n",
        "n_estimator =  488  | error_train = 0.15304  | error_valid = 0.22307 "
       ]
      },
      {
       "output_type": "stream",
       "stream": "stdout",
       "text": [
        "\n",
        "n_estimator =  489  | error_train = 0.15305  | error_valid = 0.22308 "
       ]
      },
      {
       "output_type": "stream",
       "stream": "stdout",
       "text": [
        "\n",
        "n_estimator =  490  | error_train = 0.15306  | error_valid = 0.22305 "
       ]
      },
      {
       "output_type": "stream",
       "stream": "stdout",
       "text": [
        "\n",
        "n_estimator =  491  | error_train = 0.15305  | error_valid = 0.22305 "
       ]
      },
      {
       "output_type": "stream",
       "stream": "stdout",
       "text": [
        "\n",
        "n_estimator =  492  | error_train = 0.15305  | error_valid = 0.22304 "
       ]
      },
      {
       "output_type": "stream",
       "stream": "stdout",
       "text": [
        "\n",
        "n_estimator =  493  | error_train = 0.15304  | error_valid = 0.22306 "
       ]
      },
      {
       "output_type": "stream",
       "stream": "stdout",
       "text": [
        "\n",
        "n_estimator =  494  | error_train = 0.15304  | error_valid = 0.22307 "
       ]
      },
      {
       "output_type": "stream",
       "stream": "stdout",
       "text": [
        "\n",
        "n_estimator =  495  | error_train = 0.15304  | error_valid = 0.22313 "
       ]
      },
      {
       "output_type": "stream",
       "stream": "stdout",
       "text": [
        "\n",
        "n_estimator =  496  | error_train = 0.15304  | error_valid = 0.22317 "
       ]
      },
      {
       "output_type": "stream",
       "stream": "stdout",
       "text": [
        "\n",
        "n_estimator =  497  | error_train = 0.15304  | error_valid = 0.22318 "
       ]
      },
      {
       "output_type": "stream",
       "stream": "stdout",
       "text": [
        "\n",
        "n_estimator =  498  | error_train = 0.15305  | error_valid = 0.22319 "
       ]
      },
      {
       "output_type": "stream",
       "stream": "stdout",
       "text": [
        "\n",
        "n_estimator =  499  | error_train = 0.15305  | error_valid = 0.22319 "
       ]
      },
      {
       "output_type": "stream",
       "stream": "stdout",
       "text": [
        "\n"
       ]
      },
      {
       "metadata": {},
       "output_type": "display_data",
       "text": [
        "<matplotlib.figure.Figure at 0xafae4e0>"
       ]
      },
      {
       "metadata": {},
       "output_type": "display_data",
       "png": "[encoded data removed]",
       "text": [
        "<matplotlib.figure.Figure at 0x18c25630>"
       ]
      },
      {
       "output_type": "stream",
       "stream": "stdout",
       "text": [
        "accomplished!\n"
       ]
      }
     ],
     "prompt_number": 12
    },
    {
     "cell_type": "markdown",
     "metadata": {},
     "source": [
      "As shown in above figure, by the time the number of tree\n",
      "estimators in RandomForest Regressor reaches to 20, the\n",
      "performance of the model over training data starts to converge\n",
      "to zero and the error on validation set starts to slowly increase\n",
      "which means that the model is overfitting.\n",
      "As it can be understood from comparison of the data\n",
      "in above table, the minimum validation error (as the best\n",
      "performance) for the regression is obtained in the case\n",
      "wherein we have 500 trees in the forest (n-estimator) and 14 samples parameter required to split on internal node as\n",
      "min-sample-split.\n",
      "\n"
     ]
    },
    {
     "cell_type": "markdown",
     "metadata": {},
     "source": [
      "The effectiveness of the RandomForest Regressor with above\n",
      "setting is calculated by Root Mean Squared Logarithmic\n",
      "Error (RMSLE) as an evaluating metric.\n",
      "The formula of RMSLE which is used as cost function is as\n",
      "follows:\n",
      "$$ RMSLE = \\sqrt{\\frac{1}{n} \\sum_{i=1}^n {(\\log (p_i + 1) - \\log (a_i + 1))}^2} $$"
     ]
    },
    {
     "cell_type": "markdown",
     "metadata": {},
     "source": [
      "where $n$ is the number of observations in the test set, $p_i$\n",
      "is the predicted number of total rental bikes, $a_i$ is the actual\n",
      "number of total rental bikes and $\\log (x)$ is the logarithm of $x$.\n",
      "The greater difference between predicted values and the real\n",
      "ones,cause an increases in the cost function (RMSLE).\n",
      "The cost function calculations were performed for both\n",
      "casual and registered users independently.\n",
      "Feature analysis was performed to find which parameters\n",
      "contribute the most in accuracy improvement. Analysing the\n",
      "data, we understood that we have separate information about\n",
      "casual and registered demands. Therefore, we calculate the\n",
      "cost function for casual and registered users seprately and\n",
      "combine the given results to predict the demand counts\n",
      "we have hypothesis that we might be able to improve the\n",
      "performance of the model by predicting demands of the\n",
      "casual and registered customers separately and then merging\n",
      "them to predict the total demands.\n"
     ]
    }
   ],
   "metadata": {}
  }
 ]
}